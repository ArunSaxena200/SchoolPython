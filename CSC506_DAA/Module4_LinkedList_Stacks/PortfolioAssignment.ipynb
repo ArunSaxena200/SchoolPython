{
 "cells": [
  {
   "cell_type": "markdown",
   "id": "0116b623-f6f5-4a97-8cbe-6fbcec0c32b5",
   "metadata": {},
   "source": [
    "# Insertion Sort"
   ]
  },
  {
   "cell_type": "code",
   "execution_count": 18,
   "id": "82bd05da-30ec-48eb-b1f7-25dda19e4c0f",
   "metadata": {},
   "outputs": [],
   "source": [
    "def insertion_sort(input):\n",
    "    for i in range(1,len(input)):\n",
    "        j=i\n",
    "        while(j>0 and input[j]<input[j-1]):\n",
    "            temp = input[j]\n",
    "            input[j] = input[j-1]\n",
    "            input[j-1] = temp\n",
    "            j = j-1"
   ]
  },
  {
   "cell_type": "markdown",
   "id": "e87c7751-457c-4c07-acf4-30b7adf481c7",
   "metadata": {},
   "source": [
    "# Quicksort"
   ]
  },
  {
   "cell_type": "code",
   "execution_count": 19,
   "id": "af2b64ab-c5a9-4ec9-ae0d-d27d993eae15",
   "metadata": {},
   "outputs": [],
   "source": [
    "def quick_sort(input):\n",
    "    if len(input)<=1:\n",
    "        input\n",
    "    pivot = input[len(input)//2]\n",
    "    left = [x for x in input if x<pivot]  \n",
    "    right = [x for x in input if x>pivot]\n",
    "    quick_sort(left)+[pivot]+quick_sort(right)"
   ]
  },
  {
   "cell_type": "markdown",
   "id": "17d6f9c0-0136-49bb-80e0-4868bb5a3438",
   "metadata": {},
   "source": [
    "# Data"
   ]
  },
  {
   "cell_type": "code",
   "execution_count": 25,
   "id": "a79e347a-9bbb-4e9a-8aaa-682628ea99c2",
   "metadata": {},
   "outputs": [],
   "source": [
    "import random\n",
    "import time\n",
    "\n",
    "# Generate random data\n",
    "data_size = 10000\n",
    "data = [random.randint(0, 10) for _ in range(data_size)]"
   ]
  },
  {
   "cell_type": "code",
   "execution_count": 26,
   "id": "f1e5021d-9d6b-42b7-a607-73cdbe26326c",
   "metadata": {},
   "outputs": [
    {
     "ename": "IndexError",
     "evalue": "list index out of range",
     "output_type": "error",
     "traceback": [
      "\u001b[1;31m---------------------------------------------------------------------------\u001b[0m",
      "\u001b[1;31mIndexError\u001b[0m                                Traceback (most recent call last)",
      "Cell \u001b[1;32mIn[26], line 10\u001b[0m\n\u001b[0;32m      8\u001b[0m quick_data \u001b[38;5;241m=\u001b[39m data\u001b[38;5;241m.\u001b[39mcopy()\n\u001b[0;32m      9\u001b[0m start_time \u001b[38;5;241m=\u001b[39m time\u001b[38;5;241m.\u001b[39mtime()\n\u001b[1;32m---> 10\u001b[0m \u001b[43mquick_sort\u001b[49m\u001b[43m(\u001b[49m\u001b[43mquick_data\u001b[49m\u001b[43m)\u001b[49m\n\u001b[0;32m     11\u001b[0m quick_time \u001b[38;5;241m=\u001b[39m time\u001b[38;5;241m.\u001b[39mtime() \u001b[38;5;241m-\u001b[39m start_time\n\u001b[0;32m     13\u001b[0m \u001b[38;5;66;03m#Print results\u001b[39;00m\n",
      "Cell \u001b[1;32mIn[19], line 7\u001b[0m, in \u001b[0;36mquick_sort\u001b[1;34m(input)\u001b[0m\n\u001b[0;32m      5\u001b[0m left \u001b[38;5;241m=\u001b[39m [x \u001b[38;5;28;01mfor\u001b[39;00m x \u001b[38;5;129;01min\u001b[39;00m \u001b[38;5;28minput\u001b[39m \u001b[38;5;28;01mif\u001b[39;00m x\u001b[38;5;241m<\u001b[39mpivot]  \n\u001b[0;32m      6\u001b[0m right \u001b[38;5;241m=\u001b[39m [x \u001b[38;5;28;01mfor\u001b[39;00m x \u001b[38;5;129;01min\u001b[39;00m \u001b[38;5;28minput\u001b[39m \u001b[38;5;28;01mif\u001b[39;00m x\u001b[38;5;241m>\u001b[39mpivot]\n\u001b[1;32m----> 7\u001b[0m \u001b[43mquick_sort\u001b[49m\u001b[43m(\u001b[49m\u001b[43mleft\u001b[49m\u001b[43m)\u001b[49m\u001b[38;5;241m+\u001b[39m[pivot]\u001b[38;5;241m+\u001b[39mquick_sort(right)\n",
      "Cell \u001b[1;32mIn[19], line 4\u001b[0m, in \u001b[0;36mquick_sort\u001b[1;34m(input)\u001b[0m\n\u001b[0;32m      2\u001b[0m \u001b[38;5;28;01mif\u001b[39;00m \u001b[38;5;28mlen\u001b[39m(\u001b[38;5;28minput\u001b[39m)\u001b[38;5;241m<\u001b[39m\u001b[38;5;241m=\u001b[39m\u001b[38;5;241m1\u001b[39m:\n\u001b[0;32m      3\u001b[0m     \u001b[38;5;28minput\u001b[39m\n\u001b[1;32m----> 4\u001b[0m pivot \u001b[38;5;241m=\u001b[39m \u001b[38;5;28;43minput\u001b[39;49m\u001b[43m[\u001b[49m\u001b[38;5;28;43mlen\u001b[39;49m\u001b[43m(\u001b[49m\u001b[38;5;28;43minput\u001b[39;49m\u001b[43m)\u001b[49m\u001b[38;5;241;43m/\u001b[39;49m\u001b[38;5;241;43m/\u001b[39;49m\u001b[38;5;241;43m2\u001b[39;49m\u001b[43m]\u001b[49m\n\u001b[0;32m      5\u001b[0m left \u001b[38;5;241m=\u001b[39m [x \u001b[38;5;28;01mfor\u001b[39;00m x \u001b[38;5;129;01min\u001b[39;00m \u001b[38;5;28minput\u001b[39m \u001b[38;5;28;01mif\u001b[39;00m x\u001b[38;5;241m<\u001b[39mpivot]  \n\u001b[0;32m      6\u001b[0m right \u001b[38;5;241m=\u001b[39m [x \u001b[38;5;28;01mfor\u001b[39;00m x \u001b[38;5;129;01min\u001b[39;00m \u001b[38;5;28minput\u001b[39m \u001b[38;5;28;01mif\u001b[39;00m x\u001b[38;5;241m>\u001b[39mpivot]\n",
      "\u001b[1;31mIndexError\u001b[0m: list index out of range"
     ]
    }
   ],
   "source": [
    "# Test Insertion Sort\n",
    "insertion_data = data.copy()\n",
    "start_time = time.time()\n",
    "insertion_sort(insertion_data)\n",
    "insertion_time = time.time() - start_time\n",
    "\n",
    "# Test Quick Sort\n",
    "quick_data = data.copy()\n",
    "start_time = time.time()\n",
    "quick_sort(quick_data)\n",
    "quick_time = time.time() - start_time\n",
    "\n",
    "#Print results\n",
    "print(f\"Insertion Sort Time: {insertion_time} seconds\")\n",
    "print(f\"Quick Sort Time: {quick_time} seconds\")\n"
   ]
  },
  {
   "cell_type": "code",
   "execution_count": 24,
   "id": "66b45c5e-2cc8-4186-bf33-810964f52278",
   "metadata": {},
   "outputs": [
    {
     "ename": "IndexError",
     "evalue": "list index out of range",
     "output_type": "error",
     "traceback": [
      "\u001b[1;31m---------------------------------------------------------------------------\u001b[0m",
      "\u001b[1;31mIndexError\u001b[0m                                Traceback (most recent call last)",
      "Cell \u001b[1;32mIn[24], line 24\u001b[0m\n\u001b[0;32m     22\u001b[0m quick_data \u001b[38;5;241m=\u001b[39m data\u001b[38;5;241m.\u001b[39mcopy()\n\u001b[0;32m     23\u001b[0m start_time \u001b[38;5;241m=\u001b[39m time\u001b[38;5;241m.\u001b[39mtime()\n\u001b[1;32m---> 24\u001b[0m \u001b[43mquick_sort\u001b[49m\u001b[43m(\u001b[49m\u001b[43mquick_data\u001b[49m\u001b[43m)\u001b[49m\n\u001b[0;32m     25\u001b[0m quick_time \u001b[38;5;241m=\u001b[39m time\u001b[38;5;241m.\u001b[39mtime() \u001b[38;5;241m-\u001b[39m start_time\n\u001b[0;32m     26\u001b[0m quick_times\u001b[38;5;241m.\u001b[39mappend(quick_time)\n",
      "Cell \u001b[1;32mIn[19], line 7\u001b[0m, in \u001b[0;36mquick_sort\u001b[1;34m(input)\u001b[0m\n\u001b[0;32m      5\u001b[0m left \u001b[38;5;241m=\u001b[39m [x \u001b[38;5;28;01mfor\u001b[39;00m x \u001b[38;5;129;01min\u001b[39;00m \u001b[38;5;28minput\u001b[39m \u001b[38;5;28;01mif\u001b[39;00m x\u001b[38;5;241m<\u001b[39mpivot]  \n\u001b[0;32m      6\u001b[0m right \u001b[38;5;241m=\u001b[39m [x \u001b[38;5;28;01mfor\u001b[39;00m x \u001b[38;5;129;01min\u001b[39;00m \u001b[38;5;28minput\u001b[39m \u001b[38;5;28;01mif\u001b[39;00m x\u001b[38;5;241m>\u001b[39mpivot]\n\u001b[1;32m----> 7\u001b[0m \u001b[43mquick_sort\u001b[49m\u001b[43m(\u001b[49m\u001b[43mleft\u001b[49m\u001b[43m)\u001b[49m\u001b[38;5;241m+\u001b[39m[pivot]\u001b[38;5;241m+\u001b[39mquick_sort(right)\n",
      "Cell \u001b[1;32mIn[19], line 7\u001b[0m, in \u001b[0;36mquick_sort\u001b[1;34m(input)\u001b[0m\n\u001b[0;32m      5\u001b[0m left \u001b[38;5;241m=\u001b[39m [x \u001b[38;5;28;01mfor\u001b[39;00m x \u001b[38;5;129;01min\u001b[39;00m \u001b[38;5;28minput\u001b[39m \u001b[38;5;28;01mif\u001b[39;00m x\u001b[38;5;241m<\u001b[39mpivot]  \n\u001b[0;32m      6\u001b[0m right \u001b[38;5;241m=\u001b[39m [x \u001b[38;5;28;01mfor\u001b[39;00m x \u001b[38;5;129;01min\u001b[39;00m \u001b[38;5;28minput\u001b[39m \u001b[38;5;28;01mif\u001b[39;00m x\u001b[38;5;241m>\u001b[39mpivot]\n\u001b[1;32m----> 7\u001b[0m \u001b[43mquick_sort\u001b[49m\u001b[43m(\u001b[49m\u001b[43mleft\u001b[49m\u001b[43m)\u001b[49m\u001b[38;5;241m+\u001b[39m[pivot]\u001b[38;5;241m+\u001b[39mquick_sort(right)\n",
      "    \u001b[1;31m[... skipping similar frames: quick_sort at line 7 (5 times)]\u001b[0m\n",
      "Cell \u001b[1;32mIn[19], line 7\u001b[0m, in \u001b[0;36mquick_sort\u001b[1;34m(input)\u001b[0m\n\u001b[0;32m      5\u001b[0m left \u001b[38;5;241m=\u001b[39m [x \u001b[38;5;28;01mfor\u001b[39;00m x \u001b[38;5;129;01min\u001b[39;00m \u001b[38;5;28minput\u001b[39m \u001b[38;5;28;01mif\u001b[39;00m x\u001b[38;5;241m<\u001b[39mpivot]  \n\u001b[0;32m      6\u001b[0m right \u001b[38;5;241m=\u001b[39m [x \u001b[38;5;28;01mfor\u001b[39;00m x \u001b[38;5;129;01min\u001b[39;00m \u001b[38;5;28minput\u001b[39m \u001b[38;5;28;01mif\u001b[39;00m x\u001b[38;5;241m>\u001b[39mpivot]\n\u001b[1;32m----> 7\u001b[0m \u001b[43mquick_sort\u001b[49m\u001b[43m(\u001b[49m\u001b[43mleft\u001b[49m\u001b[43m)\u001b[49m\u001b[38;5;241m+\u001b[39m[pivot]\u001b[38;5;241m+\u001b[39mquick_sort(right)\n",
      "Cell \u001b[1;32mIn[19], line 4\u001b[0m, in \u001b[0;36mquick_sort\u001b[1;34m(input)\u001b[0m\n\u001b[0;32m      2\u001b[0m \u001b[38;5;28;01mif\u001b[39;00m \u001b[38;5;28mlen\u001b[39m(\u001b[38;5;28minput\u001b[39m)\u001b[38;5;241m<\u001b[39m\u001b[38;5;241m=\u001b[39m\u001b[38;5;241m1\u001b[39m:\n\u001b[0;32m      3\u001b[0m     \u001b[38;5;28minput\u001b[39m\n\u001b[1;32m----> 4\u001b[0m pivot \u001b[38;5;241m=\u001b[39m \u001b[38;5;28;43minput\u001b[39;49m\u001b[43m[\u001b[49m\u001b[38;5;28;43mlen\u001b[39;49m\u001b[43m(\u001b[49m\u001b[38;5;28;43minput\u001b[39;49m\u001b[43m)\u001b[49m\u001b[38;5;241;43m/\u001b[39;49m\u001b[38;5;241;43m/\u001b[39;49m\u001b[38;5;241;43m2\u001b[39;49m\u001b[43m]\u001b[49m\n\u001b[0;32m      5\u001b[0m left \u001b[38;5;241m=\u001b[39m [x \u001b[38;5;28;01mfor\u001b[39;00m x \u001b[38;5;129;01min\u001b[39;00m \u001b[38;5;28minput\u001b[39m \u001b[38;5;28;01mif\u001b[39;00m x\u001b[38;5;241m<\u001b[39mpivot]  \n\u001b[0;32m      6\u001b[0m right \u001b[38;5;241m=\u001b[39m [x \u001b[38;5;28;01mfor\u001b[39;00m x \u001b[38;5;129;01min\u001b[39;00m \u001b[38;5;28minput\u001b[39m \u001b[38;5;28;01mif\u001b[39;00m x\u001b[38;5;241m>\u001b[39mpivot]\n",
      "\u001b[1;31mIndexError\u001b[0m: list index out of range"
     ]
    }
   ],
   "source": [
    "import random\n",
    "import time\n",
    "import matplotlib.pyplot as plt\n",
    "import numpy as np\n",
    "\n",
    "# Generate random data\n",
    "data_sizes = [1000, 2000, 3000, 4000, 5000]\n",
    "insertion_times = []\n",
    "quick_times = []\n",
    "\n",
    "for data_size in data_sizes:\n",
    "    data = [random.randint(0, 100000) for _ in range(data_size)]\n",
    "\n",
    "    # Test Insertion Sort\n",
    "    insertion_data = data.copy()\n",
    "    start_time = time.time()\n",
    "    insertion_sort(insertion_data)\n",
    "    insertion_time = time.time() - start_time\n",
    "    insertion_times.append(insertion_time)\n",
    "\n",
    "    # Test Quick Sort\n",
    "    quick_data = data.copy()\n",
    "    start_time = time.time()\n",
    "    quick_sort(quick_data)\n",
    "    quick_time = time.time() - start_time\n",
    "    quick_times.append(quick_time)\n",
    "\n",
    "# Plotting\n",
    "bar_width = 0.35\n",
    "index = np.arange(len(data_sizes))\n",
    "plt.bar(index, insertion_times, bar_width, label='Insertion Sort')\n",
    "plt.bar(index + bar_width, quick_times, bar_width, label='Quick Sort')\n",
    "\n",
    "plt.xlabel('Data Size')\n",
    "plt.ylabel('Execution Time (seconds)')\n",
    "plt.title('Comparison of Quick Sort and Insertion Sort')\n",
    "plt.xticks(index + bar_width / 2, data_sizes)\n",
    "plt.legend()\n",
    "plt.show()\n"
   ]
  },
  {
   "cell_type": "code",
   "execution_count": null,
   "id": "71d1a699-169c-4c02-951f-d69e93c37095",
   "metadata": {},
   "outputs": [],
   "source": []
  }
 ],
 "metadata": {
  "kernelspec": {
   "display_name": "Python 3 (ipykernel)",
   "language": "python",
   "name": "python3"
  },
  "language_info": {
   "codemirror_mode": {
    "name": "ipython",
    "version": 3
   },
   "file_extension": ".py",
   "mimetype": "text/x-python",
   "name": "python",
   "nbconvert_exporter": "python",
   "pygments_lexer": "ipython3",
   "version": "3.10.11"
  }
 },
 "nbformat": 4,
 "nbformat_minor": 5
}
