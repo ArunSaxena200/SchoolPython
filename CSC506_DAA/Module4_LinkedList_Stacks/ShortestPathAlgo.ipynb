{
 "cells": [
  {
   "cell_type": "markdown",
   "id": "33195103-ba84-4f38-93e5-763db7e0f82b",
   "metadata": {},
   "source": [
    "# Dijakstra's algorithm"
   ]
  },
  {
   "cell_type": "code",
   "execution_count": 13,
   "id": "0689eec7-8a50-4ca3-8550-2109c447826d",
   "metadata": {},
   "outputs": [],
   "source": [
    "import heapq\n",
    "import random\n",
    "import timeit\n",
    "\n",
    "def dijkstra(graph, source):\n",
    "    distances = {vertex: float('infinity') for vertex in graph}\n",
    "    distances[source] = 0\n",
    "    priority_queue = [(0, source)]\n",
    "\n",
    "    while priority_queue:\n",
    "        current_distance, current_vertex = heapq.heappop(priority_queue)\n",
    "\n",
    "        if current_distance > distances[current_vertex]:\n",
    "            continue\n",
    "\n",
    "        for neighbor, weight in graph[current_vertex].items():\n",
    "            distance = current_distance + weight\n",
    "            if distance < distances[neighbor]:\n",
    "                distances[neighbor] = distance\n",
    "                heapq.heappush(priority_queue, (distance, neighbor))\n",
    "\n",
    "    return distances\n"
   ]
  },
  {
   "cell_type": "markdown",
   "id": "c4a7b275-8e1d-4e9e-9626-bca4d1749ff7",
   "metadata": {},
   "source": [
    "# Bellman Ford algorithm"
   ]
  },
  {
   "cell_type": "code",
   "execution_count": 14,
   "id": "d8f60e72-113c-408f-9a33-58d1011d1866",
   "metadata": {},
   "outputs": [],
   "source": [
    "def bellman_ford(graph, source):\n",
    "    distances = {vertex: float('infinity') for vertex in graph}\n",
    "    distances[source] = 0\n",
    "\n",
    "    for _ in range(len(graph) - 1):\n",
    "        for vertex in graph:\n",
    "            for neighbor, weight in graph[vertex].items():\n",
    "                if distances[vertex] + weight < distances[neighbor]:\n",
    "                    distances[neighbor] = distances[vertex] + weight\n",
    "\n",
    "    # Check for negative weight cycles\n",
    "    for vertex in graph:\n",
    "        for neighbor, weight in graph[vertex].items():\n",
    "            if distances[vertex] + weight < distances[neighbor]:\n",
    "                raise ValueError(\"Graph contains a negative weight cycle\")\n",
    "\n",
    "    return distances\n"
   ]
  },
  {
   "cell_type": "code",
   "execution_count": 11,
   "id": "5e9d8b74-7f2c-4e2c-b6ed-86d3b3387d7b",
   "metadata": {},
   "outputs": [
    {
     "name": "stdout",
     "output_type": "stream",
     "text": [
      "Dijkstra's Algorithm Runtime: 0.00563889998011291\n",
      "Bellman-Ford's Algorithm Runtime: 0.3880570998881012\n"
     ]
    }
   ],
   "source": [
    "def generate_random_graph(num_vertices, edge_probability, min_weight, max_weight):\n",
    "    graph = {i: {} for i in range(num_vertices)}\n",
    "    for i in range(num_vertices):\n",
    "        for j in range(i + 1, num_vertices):\n",
    "            if random.random() < edge_probability:\n",
    "                weight = random.randint(min_weight, max_weight)\n",
    "                graph[i][j] = weight\n",
    "                graph[j][i] = weight\n",
    "    return graph\n",
    "\n",
    "if __name__ == \"__main__\":\n",
    "    num_vertices = 100\n",
    "    edge_probability = 0.3\n",
    "    min_weight = 1\n",
    "    max_weight = 10\n",
    "\n",
    "    graph = generate_random_graph(num_vertices, edge_probability, min_weight, max_weight)\n",
    "    source_vertex = random.randint(0, num_vertices - 1)\n",
    "\n",
    "    dijkstra_time = timeit.timeit(lambda: dijkstra(graph, source_vertex), number=10)\n",
    "    bellman_ford_time = timeit.timeit(lambda: bellman_ford(graph, source_vertex), number=10)\n",
    "\n",
    "    print(\"Dijkstra's Algorithm Runtime:\", dijkstra_time)\n",
    "    print(\"Bellman-Ford's Algorithm Runtime:\", bellman_ford_time)"
   ]
  },
  {
   "cell_type": "code",
   "execution_count": 15,
   "id": "4df66f4e-681c-4f1c-9862-d8dd6a3c997e",
   "metadata": {},
   "outputs": [
    {
     "data": {
      "image/png": "[encoded data removed]",
      "text/plain": [
       "<Figure size 640x480 with 1 Axes>"
      ]
     },
     "metadata": {},
     "output_type": "display_data"
    }
   ],
   "source": [
    "import matplotlib.pyplot as plt\n",
    "\n",
    "if __name__ == \"__main__\":\n",
    "    num_vertices = 100\n",
    "    edge_probability = 0.3\n",
    "    min_weight = 1\n",
    "    max_weight = 10\n",
    "\n",
    "    graph = generate_random_graph(num_vertices, edge_probability, min_weight, max_weight)\n",
    "    source_vertex = random.randint(0, num_vertices - 1)\n",
    "\n",
    "    dijkstra_time = timeit.timeit(lambda: dijkstra(graph, source_vertex), number=10)\n",
    "    bellman_ford_time = timeit.timeit(lambda: bellman_ford(graph, source_vertex), number=10)\n",
    "\n",
    "    algorithms = ['Dijkstra', 'Bellman-Ford']\n",
    "    runtimes = [dijkstra_time, bellman_ford_time]\n",
    "\n",
    "    plt.bar(algorithms, runtimes, color=['blue', 'orange'])\n",
    "    plt.xlabel('Algorithm')\n",
    "    plt.ylabel('Runtime (seconds)')\n",
    "    plt.title('Runtime Performance of Dijkstra and Bellman-Ford Algorithms')\n",
    "    plt.show()\n"
   ]
  },
  {
   "cell_type": "code",
   "execution_count": null,
   "id": "16fe85ce-927e-4239-90c3-ca473bc6dcb0",
   "metadata": {},
   "outputs": [],
   "source": []
  }
 ],
 "metadata": {
  "kernelspec": {
   "display_name": "Python 3 (ipykernel)",
   "language": "python",
   "name": "python3"
  },
  "language_info": {
   "codemirror_mode": {
    "name": "ipython",
    "version": 3
   },
   "file_extension": ".py",
   "mimetype": "text/x-python",
   "name": "python",
   "nbconvert_exporter": "python",
   "pygments_lexer": "ipython3",
   "version": "3.10.11"
  }
 },
 "nbformat": 4,
 "nbformat_minor": 5
}
