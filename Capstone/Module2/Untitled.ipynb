{
 "cells": [
  {
   "cell_type": "code",
   "execution_count": 4,
   "id": "46e86c4f-1fc8-4178-b8ac-5f51b4e8b437",
   "metadata": {},
   "outputs": [
    {
     "name": "stdout",
     "output_type": "stream",
     "text": [
      "sdada\n"
     ]
    }
   ],
   "source": [
    "print(\"sdada\")"
   ]
  },
  {
   "cell_type": "code",
   "execution_count": 2,
   "id": "2ccba55b-d4b2-4ab0-9f44-ec0328ac8e95",
   "metadata": {},
   "outputs": [],
   "source": [
    "import numpy as np\n",
    "import tensorflow as tf"
   ]
  },
  {
   "cell_type": "code",
   "execution_count": 19,
   "id": "d3965096-e46b-48b4-88b0-68ab6cf1a180",
   "metadata": {},
   "outputs": [],
   "source": [
    "v1 = tf.Variable(tf.constant(3.0, shape=[4]),dtype = 'float32')"
   ]
  },
  {
   "cell_type": "code",
   "execution_count": 10,
   "id": "abd925c5-cc0f-4c5e-8c06-051e59e04ad0",
   "metadata": {},
   "outputs": [
    {
     "name": "stdout",
     "output_type": "stream",
     "text": [
      "<tf.Variable 'Variable:0' shape=(4,) dtype=float32, numpy=array([2., 2., 2., 2.], dtype=float32)>\n"
     ]
    }
   ],
   "source": [
    "print(v1)"
   ]
  },
  {
   "cell_type": "code",
   "execution_count": 16,
   "id": "ff4dc95f-6ebd-4714-9910-d52a254bd9da",
   "metadata": {},
   "outputs": [],
   "source": [
    "v2 = tf.Variable(np.ones(shape = [4,3]),dtype = 'float32')\n",
    "v3 = v2*3.0"
   ]
  },
  {
   "cell_type": "code",
   "execution_count": 20,
   "id": "54f58e94-0600-4219-8c7e-dc723baa4fbc",
   "metadata": {},
   "outputs": [
    {
     "name": "stdout",
     "output_type": "stream",
     "text": [
      "tf.Tensor(\n",
      "[[3. 3. 3.]\n",
      " [3. 3. 3.]\n",
      " [3. 3. 3.]\n",
      " [3. 3. 3.]], shape=(4, 3), dtype=float32)\n"
     ]
    }
   ],
   "source": [
    "print(v3)"
   ]
  },
  {
   "cell_type": "code",
   "execution_count": 18,
   "id": "b0b8326c-9395-4932-8020-bd71ea858cee",
   "metadata": {},
   "outputs": [
    {
     "name": "stdout",
     "output_type": "stream",
     "text": [
      "ResourceVariable\n"
     ]
    }
   ],
   "source": [
    "print(type(v1).__name__)"
   ]
  },
  {
   "cell_type": "code",
   "execution_count": null,
   "id": "2affce84-7f7c-4625-90b0-fda9b92dceac",
   "metadata": {},
   "outputs": [],
   "source": []
  }
 ],
 "metadata": {
  "kernelspec": {
   "display_name": "Python 3 (ipykernel)",
   "language": "python",
   "name": "python3"
  },
  "language_info": {
   "codemirror_mode": {
    "name": "ipython",
    "version": 3
   },
   "file_extension": ".py",
   "mimetype": "text/x-python",
   "name": "python",
   "nbconvert_exporter": "python",
   "pygments_lexer": "ipython3",
   "version": "3.10.11"
  }
 },
 "nbformat": 4,
 "nbformat_minor": 5
}
