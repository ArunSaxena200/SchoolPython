{
 "cells": [
  {
   "cell_type": "code",
   "execution_count": 1,
   "id": "ebe9c8ff-52fb-4407-a83b-aeeafd9ee35d",
   "metadata": {},
   "outputs": [],
   "source": [
    "import numpy as np\n",
    "import tensorflow as tf"
   ]
  },
  {
   "cell_type": "code",
   "execution_count": 5,
   "id": "08f8af49-d750-4f67-9409-8fb867de2523",
   "metadata": {},
   "outputs": [],
   "source": [
    "v1 = tf.Variable(tf.constant(2.0, shape=[4]),dtype = 'float32')"
   ]
  },
  {
   "cell_type": "raw",
   "id": "a38d80b3-4359-46f6-b176-8ccd067c8d9d",
   "metadata": {},
   "source": [
    "print(\"hello\")"
   ]
  },
  {
   "cell_type": "code",
   "execution_count": null,
   "id": "80012123-d65c-43c0-8da1-ee6cda693b5c",
   "metadata": {},
   "outputs": [],
   "source": []
  },
  {
   "cell_type": "code",
   "execution_count": null,
   "id": "5ac72980-711b-4a09-92ca-9c34e3dc10aa",
   "metadata": {},
   "outputs": [],
   "source": []
  }
 ],
 "metadata": {
  "kernelspec": {
   "display_name": "Python 3 (ipykernel)",
   "language": "python",
   "name": "python3"
  },
  "language_info": {
   "codemirror_mode": {
    "name": "ipython",
    "version": 3
   },
   "file_extension": ".py",
   "mimetype": "text/x-python",
   "name": "python",
   "nbconvert_exporter": "python",
   "pygments_lexer": "ipython3",
   "version": "3.10.11"
  }
 },
 "nbformat": 4,
 "nbformat_minor": 5
}
