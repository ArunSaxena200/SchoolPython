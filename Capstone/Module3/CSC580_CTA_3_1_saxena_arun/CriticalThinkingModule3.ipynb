{
 "cells": [
  {
   "cell_type": "code",
   "execution_count": 5,
   "id": "716aaf34-3668-47ad-8cb2-1c9ad9a41248",
   "metadata": {},
   "outputs": [],
   "source": [
    "import numpy as np\n",
    "import tensorflow.compat.v1 as tf\n",
    "import matplotlib.pyplot as plt"
   ]
  },
  {
   "cell_type": "code",
   "execution_count": 6,
   "id": "cacfe821-3e4c-40d6-80bc-1d85f8f064f4",
   "metadata": {},
   "outputs": [
    {
     "name": "stdout",
     "output_type": "stream",
     "text": [
      "WARNING:tensorflow:From C:\\Users\\saxen\\AppData\\Local\\Temp\\ipykernel_40480\\721246936.py:2: The name tf.set_random_seed is deprecated. Please use tf.compat.v1.set_random_seed instead.\n",
      "\n"
     ]
    }
   ],
   "source": [
    "np.random.seed(101)\n",
    "tf.set_random_seed(101)"
   ]
  },
  {
   "cell_type": "code",
   "execution_count": 7,
   "id": "1e79f201-6f67-4de2-aeca-bff58c6e052d",
   "metadata": {},
   "outputs": [],
   "source": [
    "x = np.linspace(0, 50, 50)\n",
    "y = np.linspace(0, 50, 50)"
   ]
  },
  {
   "cell_type": "code",
   "execution_count": 9,
   "id": "f4aba684-e70d-4a0c-9265-169f5f718ade",
   "metadata": {},
   "outputs": [
    {
     "data": {
      "text/plain": [
       "(array([ 0.        ,  1.02040816,  2.04081633,  3.06122449,  4.08163265,\n",
       "         5.10204082,  6.12244898,  7.14285714,  8.16326531,  9.18367347,\n",
       "        10.20408163, 11.2244898 , 12.24489796, 13.26530612, 14.28571429,\n",
       "        15.30612245, 16.32653061, 17.34693878, 18.36734694, 19.3877551 ,\n",
       "        20.40816327, 21.42857143, 22.44897959, 23.46938776, 24.48979592,\n",
       "        25.51020408, 26.53061224, 27.55102041, 28.57142857, 29.59183673,\n",
       "        30.6122449 , 31.63265306, 32.65306122, 33.67346939, 34.69387755,\n",
       "        35.71428571, 36.73469388, 37.75510204, 38.7755102 , 39.79591837,\n",
       "        40.81632653, 41.83673469, 42.85714286, 43.87755102, 44.89795918,\n",
       "        45.91836735, 46.93877551, 47.95918367, 48.97959184, 50.        ]),\n",
       " array([ 0.        ,  1.02040816,  2.04081633,  3.06122449,  4.08163265,\n",
       "         5.10204082,  6.12244898,  7.14285714,  8.16326531,  9.18367347,\n",
       "        10.20408163, 11.2244898 , 12.24489796, 13.26530612, 14.28571429,\n",
       "        15.30612245, 16.32653061, 17.34693878, 18.36734694, 19.3877551 ,\n",
       "        20.40816327, 21.42857143, 22.44897959, 23.46938776, 24.48979592,\n",
       "        25.51020408, 26.53061224, 27.55102041, 28.57142857, 29.59183673,\n",
       "        30.6122449 , 31.63265306, 32.65306122, 33.67346939, 34.69387755,\n",
       "        35.71428571, 36.73469388, 37.75510204, 38.7755102 , 39.79591837,\n",
       "        40.81632653, 41.83673469, 42.85714286, 43.87755102, 44.89795918,\n",
       "        45.91836735, 46.93877551, 47.95918367, 48.97959184, 50.        ]))"
      ]
     },
     "execution_count": 9,
     "metadata": {},
     "output_type": "execute_result"
    }
   ],
   "source": [
    "x,y"
   ]
  },
  {
   "cell_type": "code",
   "execution_count": 10,
   "id": "ea93fc1f-d373-4aae-abef-21b9020672c7",
   "metadata": {},
   "outputs": [],
   "source": [
    "x += np.random.uniform(-4, 4, 50)\n",
    "y += np.random.uniform(-4, 4, 50)"
   ]
  },
  {
   "cell_type": "code",
   "execution_count": 11,
   "id": "45505c50-03d7-4aec-a78b-a4ce56ea6f9d",
   "metadata": {},
   "outputs": [
    {
     "data": {
      "text/plain": [
       "(array([ 0.13118902,  1.58574886, -1.73138986,  0.43339774,  5.56384851,\n",
       "         7.77321572,  4.57817874, 10.29176178,  9.9356162 ,  6.7031851 ,\n",
       "        10.63790236, 10.04154543,  9.70003718, 15.55012022, 18.00958007,\n",
       "        13.16495174, 12.99502208, 18.17532615, 20.199289  , 17.59766573,\n",
       "        21.8906139 , 21.57151122, 18.83685589, 20.57234166, 21.98553533,\n",
       "        29.46474729, 26.69593542, 28.18133669, 30.44998104, 29.92753091,\n",
       "        33.91747336, 34.09601427, 31.87704387, 32.53126413, 38.31689127,\n",
       "        34.46333834, 39.65549241, 40.39732374, 39.0808018 , 43.17567335,\n",
       "        37.59349837, 38.65951464, 44.46920122, 47.00138997, 42.17444159,\n",
       "        44.12294771, 48.31870775, 45.27360867, 50.59056093, 49.90108178]),\n",
       " array([ 1.44542215,  1.1927937 , -1.61201012,  0.85271732,  4.68327335,\n",
       "         2.0655101 ,  6.12338269,  4.24693369,  4.58573251,  6.60988885,\n",
       "         9.74302668, 14.24518839, 15.83901099, 13.09064546, 13.97466902,\n",
       "        16.4044347 , 14.92339458, 14.28756352, 14.77615491, 20.48902432,\n",
       "        22.90629042, 22.79065479, 23.66312122, 22.8659393 , 25.74255861,\n",
       "        23.18349607, 27.8100084 , 27.7880076 , 30.55959153, 26.34189158,\n",
       "        32.8884197 , 33.13058936, 34.2136892 , 33.64840154, 38.49676657,\n",
       "        33.34250668, 35.12685715, 35.57634918, 35.16086129, 43.02768923,\n",
       "        37.45715484, 42.69446487, 43.90391649, 42.90108648, 41.00388727,\n",
       "        48.65612264, 46.01827748, 48.37251043, 50.66389696, 51.40223081]))"
      ]
     },
     "execution_count": 11,
     "metadata": {},
     "output_type": "execute_result"
    }
   ],
   "source": [
    "x,y"
   ]
  },
  {
   "cell_type": "code",
   "execution_count": 12,
   "id": "3a8fab9e-4dcf-41d3-a01b-84ea4be0e9c7",
   "metadata": {},
   "outputs": [],
   "source": [
    "n = len(x)\n"
   ]
  },
  {
   "cell_type": "code",
   "execution_count": 13,
   "id": "22a3a3b8-5c69-49c7-a749-fb2bc0e80b48",
   "metadata": {},
   "outputs": [
    {
     "data": {
      "text/plain": [
       "50"
      ]
     },
     "execution_count": 13,
     "metadata": {},
     "output_type": "execute_result"
    }
   ],
   "source": [
    "n"
   ]
  },
  {
   "cell_type": "code",
   "execution_count": 16,
   "id": "96d979c6-83c6-4433-a764-57dcf379796a",
   "metadata": {},
   "outputs": [
    {
     "data": {
      "image/png": "[encoded data removed]",
      "text/plain": [
       "<Figure size 640x480 with 1 Axes>"
      ]
     },
     "metadata": {},
     "output_type": "display_data"
    }
   ],
   "source": [
    "plt.scatter(x, y)\n",
    "plt.xlabel('X')\n",
    "plt.ylabel('Y')\n",
    "plt.title('Training Data with Noise')\n",
    "plt.grid(True)\n",
    "plt.show()\n"
   ]
  },
  {
   "cell_type": "code",
   "execution_count": 18,
   "id": "9fe52ff4-dedd-4783-a38a-93eafcd6e240",
   "metadata": {},
   "outputs": [
    {
     "name": "stdout",
     "output_type": "stream",
     "text": [
      "WARNING:tensorflow:From C:\\Users\\saxen\\AppData\\Local\\Packages\\PythonSoftwareFoundation.Python.3.10_qbz5n2kfra8p0\\LocalCache\\local-packages\\Python310\\site-packages\\tensorflow\\python\\compat\\v2_compat.py:98: disable_resource_variables (from tensorflow.python.ops.resource_variables_toggle) is deprecated and will be removed in a future version.\n",
      "Instructions for updating:\n",
      "non-resource variables are not supported in the long term\n"
     ]
    }
   ],
   "source": [
    "tf.disable_v2_behavior()"
   ]
  },
  {
   "cell_type": "code",
   "execution_count": 19,
   "id": "de9632ed-9d42-438b-a9a9-8941ae66058e",
   "metadata": {},
   "outputs": [],
   "source": [
    "X = tf.placeholder(tf.float32)\n",
    "Y = tf.placeholder(tf.float32)"
   ]
  },
  {
   "cell_type": "code",
   "execution_count": 20,
   "id": "f9aa2f27-55b0-4f13-95b4-d6484da0f5ea",
   "metadata": {},
   "outputs": [],
   "source": [
    "W = tf.Variable(np.random.randn(), dtype=tf.float32)\n",
    "b = tf.Variable(np.random.randn(), dtype=tf.float32)"
   ]
  },
  {
   "cell_type": "code",
   "execution_count": 21,
   "id": "b55f6249-d45e-4db8-85e5-9954c067cd54",
   "metadata": {},
   "outputs": [],
   "source": [
    "hypothesis = W * X + b"
   ]
  },
  {
   "cell_type": "code",
   "execution_count": 22,
   "id": "578a956d-d2ac-46c3-9e2f-003b51532de4",
   "metadata": {},
   "outputs": [],
   "source": [
    "# cost function\n",
    "cost = tf.reduce_mean(tf.square(hypothesis - Y))"
   ]
  },
  {
   "cell_type": "code",
   "execution_count": 30,
   "id": "6f075ea1-39e1-4416-a57a-7a6869441481",
   "metadata": {},
   "outputs": [],
   "source": [
    "learning_rate = 0.001\n",
    "training_epochs = 1000\n"
   ]
  },
  {
   "cell_type": "code",
   "execution_count": 31,
   "id": "15207cd7-cd21-4a44-b9d2-5ce99c9dcaae",
   "metadata": {},
   "outputs": [],
   "source": [
    "optimizer = tf.compat.v1.train.GradientDescentOptimizer(learning_rate).minimize(cost)"
   ]
  },
  {
   "cell_type": "code",
   "execution_count": 39,
   "id": "9869761a-7b51-40bb-9e60-a8426e35e709",
   "metadata": {},
   "outputs": [
    {
     "name": "stdout",
     "output_type": "stream",
     "text": [
      "Epoch: 100, Cost: 10.0887, W: 0.9492, b: 1.2796\n",
      "Epoch: 200, Cost: 10.0426, W: 0.9512, b: 1.2118\n",
      "Epoch: 300, Cost: 10.0012, W: 0.9531, b: 1.1475\n",
      "Epoch: 400, Cost: 9.9639, W: 0.9549, b: 1.0864\n",
      "Epoch: 500, Cost: 9.9304, W: 0.9566, b: 1.0285\n",
      "Epoch: 600, Cost: 9.9002, W: 0.9582, b: 0.9736\n",
      "Epoch: 700, Cost: 9.8731, W: 0.9597, b: 0.9216\n",
      "Epoch: 800, Cost: 9.8487, W: 0.9612, b: 0.8722\n",
      "Epoch: 900, Cost: 9.8267, W: 0.9625, b: 0.8253\n",
      "Epoch: 1000, Cost: 9.8069, W: 0.9638, b: 0.7809\n",
      "\n",
      "Final Results:\n",
      "Final Cost: 9.8069\n",
      "Final Weight (W): 0.9638\n",
      "Final Bias (b): 0.7809\n"
     ]
    }
   ],
   "source": [
    "with tf.Session() as sess:\n",
    "    sess.run(tf.global_variables_initializer())\n",
    "\n",
    "    for epoch in range(training_epochs):\n",
    "        sess.run(optimizer, feed_dict={X: x, Y: y})\n",
    "        if (epoch+1) % 100 == 0:\n",
    "            c = sess.run(cost, feed_dict={X: x, Y: y})\n",
    "            print(f\"Epoch: {epoch+1}, Cost: {c:.4f}, W: {sess.run(W):.4f}, b: {sess.run(b):.4f}\")\n",
    "\n",
    "    # Final results - inside the session block\n",
    "    final_cost = sess.run(cost, feed_dict={X: x, Y: y})\n",
    "    final_W = sess.run(W)\n",
    "    final_b = sess.run(b)\n",
    "\n",
    "    print(\"\\nFinal Results:\")\n",
    "    print(f\"Final Cost: {final_cost:.4f}\")\n",
    "    print(f\"Final Weight (W): {final_W:.4f}\")\n",
    "    print(f\"Final Bias (b): {final_b:.4f}\")\n"
   ]
  },
  {
   "cell_type": "code",
   "execution_count": 40,
   "id": "d11da506-8494-40ff-8cea-7354bcab526f",
   "metadata": {},
   "outputs": [
    {
     "data": {
      "image/png": "[encoded data removed]",
      "text/plain": [
       "<Figure size 640x480 with 1 Axes>"
      ]
     },
     "metadata": {},
     "output_type": "display_data"
    }
   ],
   "source": [
    "plt.scatter(x, y, label='Original data')\n",
    "plt.plot(x, final_W * x + final_b, color='red', label='Fitted line')\n",
    "plt.xlabel('X')\n",
    "plt.ylabel('Y')\n",
    "plt.title('Linear Regression Fit')\n",
    "plt.legend()\n",
    "plt.grid(True)\n",
    "plt.show()\n"
   ]
  },
  {
   "cell_type": "code",
   "execution_count": null,
   "id": "4809bda9-c35d-452a-bd67-fcaae59244bc",
   "metadata": {},
   "outputs": [],
   "source": []
  }
 ],
 "metadata": {
  "kernelspec": {
   "display_name": "Python 3 (ipykernel)",
   "language": "python",
   "name": "python3"
  },
  "language_info": {
   "codemirror_mode": {
    "name": "ipython",
    "version": 3
   },
   "file_extension": ".py",
   "mimetype": "text/x-python",
   "name": "python",
   "nbconvert_exporter": "python",
   "pygments_lexer": "ipython3",
   "version": "3.10.11"
  }
 },
 "nbformat": 4,
 "nbformat_minor": 5
}
