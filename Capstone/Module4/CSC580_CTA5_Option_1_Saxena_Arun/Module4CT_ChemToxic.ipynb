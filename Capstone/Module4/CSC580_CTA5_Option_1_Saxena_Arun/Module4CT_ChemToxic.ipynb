{
  "nbformat": 4,
  "nbformat_minor": 0,
  "metadata": {
    "colab": {
      "provenance": []
    },
    "kernelspec": {
      "name": "python3",
      "display_name": "Python 3"
    },
    "language_info": {
      "name": "python"
    }
  },
  "cells": [
    {
      "cell_type": "code",
      "execution_count": 2,
      "metadata": {
        "colab": {
          "base_uri": "https://localhost:8080/"
        },
        "id": "Tdb8R9YqPutG",
        "outputId": "0557c95c-1f10-4a6f-f592-6dfaecd1b5ac"
      },
      "outputs": [
        {
          "output_type": "stream",
          "name": "stdout",
          "text": [
            "Collecting rdkit-pypi\n",
            "  Downloading rdkit_pypi-2022.9.5-cp311-cp311-manylinux_2_17_x86_64.manylinux2014_x86_64.whl.metadata (3.9 kB)\n",
            "Requirement already satisfied: numpy in /usr/local/lib/python3.11/dist-packages (from rdkit-pypi) (2.0.2)\n",
            "Requirement already satisfied: Pillow in /usr/local/lib/python3.11/dist-packages (from rdkit-pypi) (11.2.1)\n",
            "Downloading rdkit_pypi-2022.9.5-cp311-cp311-manylinux_2_17_x86_64.manylinux2014_x86_64.whl (29.4 MB)\n",
            "\u001b[2K   \u001b[90m━━━━━━━━━━━━━━━━━━━━━━━━━━━━━━━━━━━━━━━━\u001b[0m \u001b[32m29.4/29.4 MB\u001b[0m \u001b[31m67.1 MB/s\u001b[0m eta \u001b[36m0:00:00\u001b[0m\n",
            "\u001b[?25hInstalling collected packages: rdkit-pypi\n",
            "Successfully installed rdkit-pypi-2022.9.5\n",
            "Collecting deepchem==2.5.0\n",
            "  Downloading deepchem-2.5.0-py3-none-any.whl.metadata (1.1 kB)\n",
            "Requirement already satisfied: joblib in /usr/local/lib/python3.11/dist-packages (from deepchem==2.5.0) (1.5.1)\n",
            "Requirement already satisfied: numpy in /usr/local/lib/python3.11/dist-packages (from deepchem==2.5.0) (2.0.2)\n",
            "Requirement already satisfied: pandas in /usr/local/lib/python3.11/dist-packages (from deepchem==2.5.0) (2.2.2)\n",
            "Requirement already satisfied: scikit-learn in /usr/local/lib/python3.11/dist-packages (from deepchem==2.5.0) (1.6.1)\n",
            "Requirement already satisfied: scipy in /usr/local/lib/python3.11/dist-packages (from deepchem==2.5.0) (1.15.3)\n",
            "Requirement already satisfied: python-dateutil>=2.8.2 in /usr/local/lib/python3.11/dist-packages (from pandas->deepchem==2.5.0) (2.9.0.post0)\n",
            "Requirement already satisfied: pytz>=2020.1 in /usr/local/lib/python3.11/dist-packages (from pandas->deepchem==2.5.0) (2025.2)\n",
            "Requirement already satisfied: tzdata>=2022.7 in /usr/local/lib/python3.11/dist-packages (from pandas->deepchem==2.5.0) (2025.2)\n",
            "Requirement already satisfied: threadpoolctl>=3.1.0 in /usr/local/lib/python3.11/dist-packages (from scikit-learn->deepchem==2.5.0) (3.6.0)\n",
            "Requirement already satisfied: six>=1.5 in /usr/local/lib/python3.11/dist-packages (from python-dateutil>=2.8.2->pandas->deepchem==2.5.0) (1.17.0)\n",
            "Downloading deepchem-2.5.0-py3-none-any.whl (552 kB)\n",
            "\u001b[2K   \u001b[90m━━━━━━━━━━━━━━━━━━━━━━━━━━━━━━━━━━━━━━━━\u001b[0m \u001b[32m552.4/552.4 kB\u001b[0m \u001b[31m21.7 MB/s\u001b[0m eta \u001b[36m0:00:00\u001b[0m\n",
            "\u001b[?25hInstalling collected packages: deepchem\n",
            "Successfully installed deepchem-2.5.0\n"
          ]
        },
        {
          "output_type": "stream",
          "name": "stderr",
          "text": [
            "\u001b[34m\u001b[1mwandb\u001b[0m: \u001b[33mWARNING\u001b[0m W&B installed but not logged in.  Run `wandb login` or set the WANDB_API_KEY env variable.\n",
            "WARNING:tensorflow:From /usr/local/lib/python3.11/dist-packages/tensorflow/python/util/deprecation.py:588: calling function (from tensorflow.python.eager.polymorphic_function.polymorphic_function) with experimental_relax_shapes is deprecated and will be removed in a future version.\n",
            "Instructions for updating:\n",
            "experimental_relax_shapes is deprecated, use reduce_retracing instead\n",
            "\u001b[34m\u001b[1mwandb\u001b[0m: \u001b[33mWARNING\u001b[0m W&B installed but not logged in.  Run `wandb login` or set the WANDB_API_KEY env variable.\n"
          ]
        }
      ],
      "source": [
        "# Install RDKit first\n",
        "!pip install rdkit-pypi\n",
        "\n",
        "# Then install deepchem\n",
        "!pip install deepchem==2.5.0\n",
        "\n",
        "import numpy as np\n",
        "import tensorflow.compat.v1 as tf\n",
        "tf.disable_v2_behavior()\n",
        "\n",
        "import matplotlib.pyplot as plt\n",
        "import deepchem as dc\n",
        "from sklearn.metrics import accuracy_score\n",
        "\n",
        "# Set seeds\n",
        "np.random.seed(456)\n",
        "tf.set_random_seed(456)\n"
      ]
    },
    {
      "cell_type": "code",
      "source": [
        "_, (train, valid, test), _ = dc.molnet.load_tox21()\n",
        "\n",
        "train_X, train_y, train_w = train.X, train.y, train.w\n",
        "valid_X, valid_y, valid_w = valid.X, valid.y, valid.w\n",
        "test_X, test_y, test_w = test.X, test.y, test.w"
      ],
      "metadata": {
        "id": "7sdBGuOsP0py"
      },
      "execution_count": 16,
      "outputs": []
    },
    {
      "cell_type": "code",
      "source": [],
      "metadata": {
        "id": "37-KuEb_ThVw"
      },
      "execution_count": 3,
      "outputs": []
    },
    {
      "cell_type": "code",
      "source": [
        "# Remove extra tasks\n",
        "train_y = train_y[:, 0]\n",
        "valid_y = valid_y[:, 0]\n",
        "test_y = test_y[:, 0]\n",
        "train_w = train_w[:, 0]\n",
        "valid_w = valid_w[:, 0]\n",
        "test_w = test_w[:, 0]\n"
      ],
      "metadata": {
        "id": "VL7keNehTom2"
      },
      "execution_count": 4,
      "outputs": []
    },
    {
      "cell_type": "code",
      "source": [
        "# Define network parameters\n",
        "d = 1024\n",
        "n_hidden = 50\n",
        "learning_rate = 0.001\n",
        "n_epochs = 10\n",
        "batch_size = 100"
      ],
      "metadata": {
        "id": "7USfIJEZUC5J"
      },
      "execution_count": 5,
      "outputs": []
    },
    {
      "cell_type": "code",
      "source": [
        "x = tf.placeholder(tf.float32, (None, d))\n",
        "y = tf.placeholder(tf.float32, (None,))"
      ],
      "metadata": {
        "id": "Mw7t016ZUImP"
      },
      "execution_count": 6,
      "outputs": []
    },
    {
      "cell_type": "code",
      "source": [
        "# Hidden layer\n",
        "W_hidden = tf.Variable(tf.random_normal((d, n_hidden)))\n",
        "b_hidden = tf.Variable(tf.random_normal((n_hidden,)))\n",
        "x_hidden = tf.nn.relu(tf.matmul(x, W_hidden) + b_hidden)"
      ],
      "metadata": {
        "id": "uN3sGDgkUNY3"
      },
      "execution_count": 7,
      "outputs": []
    },
    {
      "cell_type": "code",
      "source": [
        "# Dropout layer\n",
        "keep_prob = tf.placeholder(tf.float32)\n",
        "x_hidden_drop = tf.nn.dropout(x_hidden, keep_prob)"
      ],
      "metadata": {
        "colab": {
          "base_uri": "https://localhost:8080/"
        },
        "id": "TUpl_RoPUR7B",
        "outputId": "2b56a985-43b8-4d74-bbd1-17b90616f9c8"
      },
      "execution_count": 8,
      "outputs": [
        {
          "output_type": "stream",
          "name": "stderr",
          "text": [
            "WARNING:tensorflow:From /usr/local/lib/python3.11/dist-packages/tensorflow/python/util/dispatch.py:1260: calling dropout (from tensorflow.python.ops.nn_ops) with keep_prob is deprecated and will be removed in a future version.\n",
            "Instructions for updating:\n",
            "Please use `rate` instead of `keep_prob`. Rate should be set to `rate = 1 - keep_prob`.\n"
          ]
        }
      ]
    },
    {
      "cell_type": "code",
      "source": [
        "# Output layer\n",
        "W_output = tf.Variable(tf.random_normal((n_hidden, 1)))\n",
        "b_output = tf.Variable(tf.random_normal((1,)))\n",
        "y_logit = tf.matmul(x_hidden_drop, W_output) + b_output\n",
        "y_one_prob = tf.sigmoid(y_logit)\n",
        "y_pred = tf.round(y_one_prob)"
      ],
      "metadata": {
        "id": "nKBESthaUXbv"
      },
      "execution_count": 9,
      "outputs": []
    },
    {
      "cell_type": "code",
      "source": [
        "# Loss function\n",
        "y_expand = tf.expand_dims(y, 1)\n",
        "entropy = tf.nn.sigmoid_cross_entropy_with_logits(logits=y_logit, labels=y_expand)\n",
        "loss = tf.reduce_sum(entropy)"
      ],
      "metadata": {
        "id": "knHsUKrjUdyj"
      },
      "execution_count": 10,
      "outputs": []
    },
    {
      "cell_type": "code",
      "source": [
        "# Optimizer\n",
        "train_op = tf.train.AdamOptimizer(learning_rate).minimize(loss)"
      ],
      "metadata": {
        "id": "Yd-vAE1bUggw"
      },
      "execution_count": 11,
      "outputs": []
    },
    {
      "cell_type": "code",
      "source": [
        "# Training loop\n",
        "N = train_X.shape[0]\n",
        "loss_history = []"
      ],
      "metadata": {
        "id": "bzl034HBUkLz"
      },
      "execution_count": 12,
      "outputs": []
    },
    {
      "cell_type": "code",
      "source": [
        "with tf.Session() as sess:\n",
        "    sess.run(tf.global_variables_initializer())\n",
        "    for epoch in range(n_epochs):\n",
        "        pos = 0\n",
        "        while pos < N:\n",
        "            batch_X = train_X[pos:pos+batch_size]\n",
        "            batch_y = train_y[pos:pos+batch_size]\n",
        "            feed_dict = {x: batch_X, y: batch_y, keep_prob: 0.8}\n",
        "            _, loss_val = sess.run([train_op, loss], feed_dict=feed_dict)\n",
        "            pos += batch_size\n",
        "        print(\"Epoch:\", epoch+1, \"Loss:\", loss_val)\n",
        "        loss_history.append(loss_val)\n",
        "\n",
        "    # Predict on validation data\n",
        "    valid_pred = sess.run(y_pred, feed_dict={x: valid_X, keep_prob: 1.0})"
      ],
      "metadata": {
        "colab": {
          "base_uri": "https://localhost:8080/"
        },
        "id": "9utcWm5HUmz9",
        "outputId": "ab085f03-b53a-4383-abae-3494518ba1fd"
      },
      "execution_count": 13,
      "outputs": [
        {
          "output_type": "stream",
          "name": "stdout",
          "text": [
            "Epoch: 1 Loss: 181.88892\n",
            "Epoch: 2 Loss: 124.87159\n",
            "Epoch: 3 Loss: 137.62494\n",
            "Epoch: 4 Loss: 111.88254\n",
            "Epoch: 5 Loss: 118.18395\n",
            "Epoch: 6 Loss: 136.77963\n",
            "Epoch: 7 Loss: 153.09796\n",
            "Epoch: 8 Loss: 102.934326\n",
            "Epoch: 9 Loss: 49.005047\n",
            "Epoch: 10 Loss: 139.643\n"
          ]
        }
      ]
    },
    {
      "cell_type": "code",
      "source": [
        "# Evaluate accuracy\n",
        "valid_accuracy = accuracy_score(valid_y, valid_pred)\n",
        "print(\"Validation Accuracy:\", valid_accuracy)\n",
        "\n",
        "# Plot loss curve\n",
        "plt.plot(loss_history)\n",
        "plt.xlabel(\"Epoch\")\n",
        "plt.ylabel(\"Loss\")\n",
        "plt.title(\"Loss Curve\")\n",
        "plt.show()"
      ],
      "metadata": {
        "colab": {
          "base_uri": "https://localhost:8080/",
          "height": 489
        },
        "id": "N8CF6UEZUq-g",
        "outputId": "245bcb36-1f92-408d-85c3-7725ffae73b2"
      },
      "execution_count": 14,
      "outputs": [
        {
          "output_type": "stream",
          "name": "stdout",
          "text": [
            "Validation Accuracy: 0.9591315453384419\n"
          ]
        },
        {
          "output_type": "display_data",
          "data": {
            "text/plain": [
              "<Figure size 640x480 with 1 Axes>"
            ],
            "image/png": "[encoded data removed]"
          },
          "metadata": {}
        }
      ]
    },
    {
      "cell_type": "code",
      "source": [
        "\n",
        "import numpy as np\n",
        "import tensorflow.compat.v1 as tf\n",
        "tf.disable_v2_behavior()\n",
        "import deepchem as dc\n",
        "from sklearn.metrics import accuracy_score\n",
        "from sklearn.ensemble import RandomForestClassifier\n",
        "\n",
        "np.random.seed(456)\n",
        "\n",
        "# Load data\n",
        "_, (train, valid, test), _ = dc.molnet.load_tox21()\n",
        "train_X, train_y, train_w = train.X, train.y, train.w\n",
        "valid_X, valid_y, valid_w = valid.X, valid.y, valid.w\n",
        "test_X, test_y, test_w = test.X, test.y, test.w\n",
        "\n",
        "# Use only the first task\n",
        "train_y = train_y[:, 0]\n",
        "valid_y = valid_y[:, 0]\n",
        "test_y = test_y[:, 0]\n",
        "train_w = train_w[:, 0]\n",
        "valid_w = valid_w[:, 0]\n",
        "test_w = test_w[:, 0]\n",
        "\n",
        "# Random Forest baseline\n",
        "rf_model = RandomForestClassifier(class_weight=\"balanced\", n_estimators=50)\n",
        "rf_model.fit(train_X, train_y)\n",
        "valid_pred = rf_model.predict(valid_X)\n",
        "print(\"Random Forest Valid Accuracy:\", accuracy_score(valid_y, valid_pred, sample_weight=valid_w))\n",
        "\n",
        "# Fully connected neural network model evaluation\n",
        "def eval_model(n_hidden, n_layers, lr, dropout_prob, n_epochs=20, batch_size=100):\n",
        "    d = 1024\n",
        "    graph = tf.Graph()\n",
        "    with graph.as_default():\n",
        "        x = tf.placeholder(tf.float32, (None, d))\n",
        "        y = tf.placeholder(tf.float32, (None,))\n",
        "        w = tf.placeholder(tf.float32, (None,))\n",
        "        keep_prob = tf.placeholder(tf.float32)\n",
        "        input_layer = x\n",
        "\n",
        "        for _ in range(n_layers):\n",
        "            W = tf.Variable(tf.random_normal((d, n_hidden)))\n",
        "            b = tf.Variable(tf.random_normal((n_hidden,)))\n",
        "            input_layer = tf.nn.relu(tf.matmul(input_layer, W) + b)\n",
        "            input_layer = tf.nn.dropout(input_layer, keep_prob)\n",
        "            d = n_hidden\n",
        "\n",
        "        W_out = tf.Variable(tf.random_normal((n_hidden, 1)))\n",
        "        b_out = tf.Variable(tf.random_normal((1,)))\n",
        "        y_logit = tf.matmul(input_layer, W_out) + b_out\n",
        "        y_one_prob = tf.sigmoid(y_logit)\n",
        "        y_pred = tf.round(y_one_prob)\n",
        "\n",
        "        y_expand = tf.expand_dims(y, 1)\n",
        "        entropy = tf.nn.sigmoid_cross_entropy_with_logits(logits=y_logit, labels=y_expand)\n",
        "        w_expand = tf.expand_dims(w, 1)\n",
        "        loss = tf.reduce_sum(w_expand * entropy)\n",
        "        train_op = tf.train.AdamOptimizer(lr).minimize(loss)\n",
        "\n",
        "        N = train_X.shape[0]\n",
        "        with tf.Session() as sess:\n",
        "            sess.run(tf.global_variables_initializer())\n",
        "            for epoch in range(n_epochs):\n",
        "                pos = 0\n",
        "                while pos < N:\n",
        "                    batch_X = train_X[pos:pos+batch_size]\n",
        "                    batch_y = train_y[pos:pos+batch_size]\n",
        "                    batch_w = train_w[pos:pos+batch_size]\n",
        "                    feed_dict = {x: batch_X, y: batch_y, w: batch_w, keep_prob: dropout_prob}\n",
        "                    sess.run(train_op, feed_dict=feed_dict)\n",
        "                    pos += batch_size\n",
        "\n",
        "            valid_preds = sess.run(y_pred, feed_dict={x: valid_X, keep_prob: 1.0})\n",
        "            return accuracy_score(valid_y, valid_preds, sample_weight=valid_w)\n",
        "\n",
        "# Hyperparameter tuning\n",
        "hidden_list = [50, 100]\n",
        "layer_list = [1, 2]\n",
        "lr_list = [0.001, 0.0005]\n",
        "dropout_list = [0.3, 0.5]\n",
        "\n",
        "best_acc = 0\n",
        "best_config = None\n",
        "\n",
        "for n_hidden in hidden_list:\n",
        "    for n_layers in layer_list:\n",
        "        for lr in lr_list:\n",
        "            for dropout_prob in dropout_list:\n",
        "                avg_acc = 0\n",
        "                for repeat in range(3):  # Repeat for stability\n",
        "                    acc = eval_model(n_hidden, n_layers, lr, dropout_prob)\n",
        "                    avg_acc += acc\n",
        "                avg_acc /= 3\n",
        "                print(f\"Config: hidden={n_hidden}, layers={n_layers}, lr={lr}, dropout={dropout_prob} -> Avg Val Acc: {avg_acc:.4f}\")\n",
        "                if avg_acc > best_acc:\n",
        "                    best_acc = avg_acc\n",
        "                    best_config = (n_hidden, n_layers, lr, dropout_prob)\n",
        "\n",
        "print(\"Best configuration:\", best_config)\n",
        "print(\"Best average validation accuracy:\", best_acc)\n"
      ],
      "metadata": {
        "id": "d6UCDAnpZUki",
        "outputId": "0e20af39-9d69-48cd-cdf6-ab5d9f41debb",
        "colab": {
          "base_uri": "https://localhost:8080/"
        }
      },
      "execution_count": 15,
      "outputs": [
        {
          "output_type": "stream",
          "name": "stdout",
          "text": [
            "Random Forest Valid Accuracy: 0.6945364047432289\n",
            "Config: hidden=50, layers=1, lr=0.001, dropout=0.3 -> Avg Val Acc: 0.6772\n",
            "Config: hidden=50, layers=1, lr=0.001, dropout=0.5 -> Avg Val Acc: 0.6684\n",
            "Config: hidden=50, layers=1, lr=0.0005, dropout=0.3 -> Avg Val Acc: 0.6733\n",
            "Config: hidden=50, layers=1, lr=0.0005, dropout=0.5 -> Avg Val Acc: 0.6567\n",
            "Config: hidden=50, layers=2, lr=0.001, dropout=0.3 -> Avg Val Acc: 0.6095\n",
            "Config: hidden=50, layers=2, lr=0.001, dropout=0.5 -> Avg Val Acc: 0.6372\n",
            "Config: hidden=50, layers=2, lr=0.0005, dropout=0.3 -> Avg Val Acc: 0.6118\n",
            "Config: hidden=50, layers=2, lr=0.0005, dropout=0.5 -> Avg Val Acc: 0.6447\n",
            "Config: hidden=100, layers=1, lr=0.001, dropout=0.3 -> Avg Val Acc: 0.7127\n",
            "Config: hidden=100, layers=1, lr=0.001, dropout=0.5 -> Avg Val Acc: 0.6880\n",
            "Config: hidden=100, layers=1, lr=0.0005, dropout=0.3 -> Avg Val Acc: 0.6768\n",
            "Config: hidden=100, layers=1, lr=0.0005, dropout=0.5 -> Avg Val Acc: 0.7113\n",
            "Config: hidden=100, layers=2, lr=0.001, dropout=0.3 -> Avg Val Acc: 0.6224\n",
            "Config: hidden=100, layers=2, lr=0.001, dropout=0.5 -> Avg Val Acc: 0.6906\n",
            "Config: hidden=100, layers=2, lr=0.0005, dropout=0.3 -> Avg Val Acc: 0.6584\n",
            "Config: hidden=100, layers=2, lr=0.0005, dropout=0.5 -> Avg Val Acc: 0.6947\n",
            "Best configuration: (100, 1, 0.001, 0.3)\n",
            "Best average validation accuracy: 0.7126724495916578\n"
          ]
        }
      ]
    },
    {
      "cell_type": "code",
      "source": [],
      "metadata": {
        "id": "gHwzDOnTId8r"
      },
      "execution_count": null,
      "outputs": []
    }
  ]
}