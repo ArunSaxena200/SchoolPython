{
 "cells": [
  {
   "cell_type": "code",
   "execution_count": 164,
   "id": "2586e68c-0a47-4e63-8902-51cb789d1bce",
   "metadata": {},
   "outputs": [],
   "source": [
    "import cv2\n",
    "import numpy as np\n",
    "import matplotlib.pyplot as plt"
   ]
  },
  {
   "cell_type": "markdown",
   "id": "20b7c919-f702-4722-b928-67c82daf0ca8",
   "metadata": {},
   "source": [
    "## with scale factor of 1.05 it shows 2 false positives and with scale factor of 1.10 it shows 2 faces as false negatives"
   ]
  },
  {
   "cell_type": "code",
   "execution_count": 190,
   "id": "f9a49855-6916-40e3-b981-a948f0623cf6",
   "metadata": {},
   "outputs": [
    {
     "name": "stdout",
     "output_type": "stream",
     "text": [
      "Detected 24 face(s)\n",
      "Detected 3 eye(s) in this face\n",
      "Detected 2 eye(s) in this face\n",
      "Detected 3 eye(s) in this face\n",
      "Detected 1 eye(s) in this face\n",
      "Detected 2 eye(s) in this face\n",
      "Detected 0 eye(s) in this face\n",
      "Detected 2 eye(s) in this face\n",
      "Detected 2 eye(s) in this face\n",
      "Detected 2 eye(s) in this face\n",
      "Detected 2 eye(s) in this face\n",
      "Detected 2 eye(s) in this face\n",
      "Detected 4 eye(s) in this face\n",
      "Detected 2 eye(s) in this face\n",
      "Detected 2 eye(s) in this face\n",
      "Detected 2 eye(s) in this face\n",
      "Detected 2 eye(s) in this face\n",
      "Detected 2 eye(s) in this face\n",
      "Detected 2 eye(s) in this face\n",
      "Detected 2 eye(s) in this face\n",
      "Detected 2 eye(s) in this face\n",
      "Detected 2 eye(s) in this face\n",
      "Detected 2 eye(s) in this face\n",
      "Detected 1 eye(s) in this face\n",
      "Detected 2 eye(s) in this face\n",
      "Detected 2 face(s)\n",
      "Detected 0 eye(s) in this face\n",
      "Detected 0 eye(s) in this face\n",
      "Detected 1 face(s)\n",
      "Detected 0 eye(s) in this face\n"
     ]
    }
   ],
   "source": [
    "import cv2\n",
    "\n",
    "face_cascade = cv2.CascadeClassifier(cv2.data.haarcascades + 'haarcascade_frontalface_default.xml')\n",
    "eye_cascade = cv2.CascadeClassifier(cv2.data.haarcascades + 'haarcascade_eye.xml')\n",
    "\n",
    "def preprocess_image(image):\n",
    "    gray = cv2.cvtColor(image, cv2.COLOR_BGR2GRAY)\n",
    "    equalized = cv2.equalizeHist(gray)\n",
    "    return equalized\n",
    "\n",
    "def detect_and_blur_eyes(image_path):\n",
    "    image = cv2.imread(image_path)\n",
    "    gray = preprocess_image(image)\n",
    "\n",
    "    faces = face_cascade.detectMultiScale(gray, scaleFactor=1.1, minNeighbors=5)\n",
    "    print(f\"Detected {len(faces)} face(s)\")\n",
    "\n",
    "    for (x, y, w, h) in faces:\n",
    "        cv2.rectangle(image, (x, y), (x + w, y + h), (0, 0, 255), 2)\n",
    "        \n",
    "        face_region = gray[y:y + h, x:x + w]\n",
    "        color_face_region = image[y:y + h, x:x + w]\n",
    "\n",
    "        eyes = eye_cascade.detectMultiScale(face_region, scaleFactor=1.01, minNeighbors=7, minSize=(10, 10))\n",
    "        print(f\"Detected {len(eyes)} eye(s) in this face\")\n",
    "\n",
    "        for (ex, ey, ew, eh) in eyes:\n",
    "            eye_region = color_face_region[ey:ey + eh, ex:ex + ew]\n",
    "            \n",
    "            blurred_eye = cv2.GaussianBlur(eye_region, (15, 15), 30)\n",
    "            \n",
    "            color_face_region[ey:ey + eh, ex:ex + ew] = blurred_eye\n",
    "\n",
    "    cv2.imshow('Face and Eye Detection with Blurring', image)\n",
    "    cv2.waitKey(0)\n",
    "    cv2.destroyAllWindows()\n",
    "\n",
    "image_paths = ['faces.jpeg', 'Monkey.jpg', 'fullbody_noise.jpg']\n",
    "for path in image_paths:\n",
    "    detect_and_blur_eyes(path)\n"
   ]
  },
  {
   "cell_type": "code",
   "execution_count": null,
   "id": "1b75d22b-cc55-472f-abd5-83c363cb4f1e",
   "metadata": {},
   "outputs": [],
   "source": []
  }
 ],
 "metadata": {
  "kernelspec": {
   "display_name": "Python 3 (ipykernel)",
   "language": "python",
   "name": "python3"
  },
  "language_info": {
   "codemirror_mode": {
    "name": "ipython",
    "version": 3
   },
   "file_extension": ".py",
   "mimetype": "text/x-python",
   "name": "python",
   "nbconvert_exporter": "python",
   "pygments_lexer": "ipython3",
   "version": "3.10.11"
  }
 },
 "nbformat": 4,
 "nbformat_minor": 5
}
