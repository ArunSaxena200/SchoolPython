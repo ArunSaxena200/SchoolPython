{
 "cells": [
  {
   "cell_type": "code",
   "execution_count": 8,
   "metadata": {},
   "outputs": [],
   "source": [
    "import cv2\n",
    "import numpy as np"
   ]
  },
  {
   "cell_type": "code",
   "execution_count": 17,
   "metadata": {},
   "outputs": [],
   "source": [
    "face_cascade = cv2.CascadeClassifier(r'C:\\Users\\saxen\\Downloads\\pythonfacial\\haarcascade_frontalface_default.xml')\n",
    "\n",
    "if face_cascade.empty():\n",
    "    raise Exception(\"Could not load Haar cascade classifier. Please check the file path.\")"
   ]
  },
  {
   "cell_type": "code",
   "execution_count": 16,
   "metadata": {},
   "outputs": [],
   "source": [
    "# Load the Haar cascade for face detection\n",
    "face_cascade = cv2.CascadeClassifier(r'C:\\Users\\saxen\\Downloads\\pythonfacial\\haarcascade_frontalface_default.xml')\n",
    "\n",
    "# Capture an image from the webcam\n",
    "def capture_image():\n",
    "    cap = cv2.VideoCapture(0)\n",
    "    while True:\n",
    "        ret, frame = cap.read()\n",
    "        cv2.imshow(\"Press 's' to capture your image\", frame)\n",
    "        if cv2.waitKey(1) & 0xFF == ord('s'):\n",
    "            cv2.imwrite('captured_image.jpg', frame)\n",
    "            break\n",
    "    cap.release()\n",
    "    cv2.destroyAllWindows()\n",
    "    return 'captured_image.jpg'\n",
    "\n",
    "# Function to detect faces\n",
    "def detect_faces(image):\n",
    "    gray = cv2.cvtColor(image, cv2.COLOR_BGR2GRAY)\n",
    "    faces = face_cascade.detectMultiScale(gray, scaleFactor=1.1, minNeighbors=5)\n",
    "    return faces\n",
    "\n",
    "# Function to swap faces\n",
    "def face_swap(img1, img2):\n",
    "    # Detect faces in both images\n",
    "    faces1 = detect_faces(img1)\n",
    "    faces2 = detect_faces(img2)\n",
    "\n",
    "    if len(faces1) == 0 or len(faces2) == 0:\n",
    "        raise Exception(\"Unable to detect faces in one or both images.\")\n",
    "    \n",
    "    # Use the first detected face for simplicity\n",
    "    x1, y1, w1, h1 = faces1[0]\n",
    "    x2, y2, w2, h2 = faces2[0]\n",
    "\n",
    "    # Resize the second face to match the first face dimensions\n",
    "    face2 = img2[y2:y2+h2, x2:x2+w2]\n",
    "    face2_resized = cv2.resize(face2, (w1, h1))\n",
    "\n",
    "    # Swap the faces\n",
    "    img1[y1:y1+h1, x1:x1+w1] = face2_resized\n",
    "\n",
    "    return img1\n",
    "\n",
    "def main():\n",
    "    # Step 1: Capture an image from the webcam\n",
    "    captured_image_path = capture_image()\n",
    "\n",
    "    # Step 2: Load your captured image and another image for face swap\n",
    "    img1 = cv2.imread(captured_image_path)  # Your captured image\n",
    "    img2 = cv2.imread('joebiden.jpg')  # A web or public domain image\n",
    "\n",
    "    # Step 3: Perform face swap\n",
    "    output_image = face_swap(img1, img2)\n",
    "\n",
    "    # Step 4: Save and display the result\n",
    "    cv2.imwrite('face_swap_output.jpg', output_image)\n",
    "    cv2.imshow(\"Face Swap\", output_image)\n",
    "    cv2.waitKey(0)\n",
    "    cv2.destroyAllWindows()\n",
    "\n",
    "if __name__ == '__main__':\n",
    "    main()\n"
   ]
  },
  {
   "cell_type": "code",
   "execution_count": null,
   "metadata": {},
   "outputs": [],
   "source": []
  }
 ],
 "metadata": {
  "kernelspec": {
   "display_name": "Python 3",
   "language": "python",
   "name": "python3"
  },
  "language_info": {
   "codemirror_mode": {
    "name": "ipython",
    "version": 3
   },
   "file_extension": ".py",
   "mimetype": "text/x-python",
   "name": "python",
   "nbconvert_exporter": "python",
   "pygments_lexer": "ipython3",
   "version": "3.10.11"
  }
 },
 "nbformat": 4,
 "nbformat_minor": 2
}
