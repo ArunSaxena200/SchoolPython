{
 "cells": [
  {
   "cell_type": "code",
   "execution_count": 1,
   "id": "ecff9b46-725b-4aa7-b4d6-a5116a46fb42",
   "metadata": {},
   "outputs": [
    {
     "name": "stdout",
     "output_type": "stream",
     "text": [
      "Items selected for the knapsack:\n",
      "Action: None\n",
      "State: ((60, 10), (100, 20), (120, 30))\n",
      "Action: (120, 30)\n",
      "State: ((60, 10), (100, 20))\n"
     ]
    }
   ],
   "source": [
    "from simpleai.search import SearchProblem, astar\n",
    "\n",
    "class KnapsackProblem(SearchProblem):\n",
    "    def __init__(self, items, capacity):\n",
    "        super().__init__(tuple(items))\n",
    "        self.capacity = capacity\n",
    "\n",
    "    def actions(self, state):\n",
    "        # Generate all possible actions (adding an item to the knapsack)\n",
    "        return [item for item in state]\n",
    "\n",
    "    def result(self, state, action):\n",
    "        # Execute an action and return the new state\n",
    "        new_state = list(state)\n",
    "        new_state.remove(action)\n",
    "        return tuple(new_state)\n",
    "\n",
    "    def is_goal(self, state):\n",
    "        # Check if the knapsack cannot accommodate any more items\n",
    "        return sum(item[1] for item in state) <= self.capacity\n",
    "\n",
    "    def heuristic(self, state):\n",
    "        # Heuristic function: estimate the maximum value achievable from the current state\n",
    "        remaining_capacity = self.capacity - sum(item[1] for item in state)\n",
    "        max_value = sum(item[0] for item in sorted(state, key=lambda x: x[0]/x[1], reverse=True))\n",
    "        return max_value if remaining_capacity >= 0 else 0\n",
    "\n",
    "# List of items (value, weight) and knapsack capacity\n",
    "items = [(60, 10), (100, 20), (120, 30)]\n",
    "knapsack_capacity = 50\n",
    "\n",
    "problem = KnapsackProblem(items, knapsack_capacity)\n",
    "result = astar(problem)\n",
    "\n",
    "print(\"Items selected for the knapsack:\")\n",
    "for action, state in result.path():\n",
    "    print(\"Action:\", action)\n",
    "    print(\"State:\", state)\n"
   ]
  },
  {
   "cell_type": "code",
   "execution_count": null,
   "id": "04a3511a-9300-40ad-99f2-7cbd4af39ca8",
   "metadata": {},
   "outputs": [],
   "source": []
  }
 ],
 "metadata": {
  "kernelspec": {
   "display_name": "Python 3 (ipykernel)",
   "language": "python",
   "name": "python3"
  },
  "language_info": {
   "codemirror_mode": {
    "name": "ipython",
    "version": 3
   },
   "file_extension": ".py",
   "mimetype": "text/x-python",
   "name": "python",
   "nbconvert_exporter": "python",
   "pygments_lexer": "ipython3",
   "version": "3.10.11"
  }
 },
 "nbformat": 4,
 "nbformat_minor": 5
}
