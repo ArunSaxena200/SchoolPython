{
 "cells": [
  {
   "cell_type": "code",
   "execution_count": 18,
   "id": "383dfe1b-5e4f-40f5-8f57-5301fa379463",
   "metadata": {},
   "outputs": [],
   "source": [
    "def perm(inpArray):\n",
    "    res = []\n",
    "    def backtrack(start):\n",
    "        #base\n",
    "        if start == len(inpArray):\n",
    "            res.append(inpArray[:])\n",
    "            return\n",
    "        # iterate\n",
    "        for i in range(start,len(inpArray)):\n",
    "            inpArray[start],inpArray[i]=inpArray[i],inpArray[start]\n",
    "            backtrack(start+1)\n",
    "            inpArray[start],inpArray[i]=inpArray[i],inpArray[start]\n",
    "        \n",
    "    backtrack(0)\n",
    "    return res\n"
   ]
  },
  {
   "cell_type": "code",
   "execution_count": 19,
   "id": "44c6b222-4759-400e-b11e-e3832bc5a036",
   "metadata": {},
   "outputs": [
    {
     "name": "stdout",
     "output_type": "stream",
     "text": [
      "[[1, 2, 3], [1, 3, 2], [2, 1, 3], [2, 3, 1], [3, 2, 1], [3, 1, 2]]\n"
     ]
    }
   ],
   "source": [
    "print(perm([1,2,3]))"
   ]
  },
  {
   "cell_type": "code",
   "execution_count": null,
   "id": "19163703-36fb-4ab4-90e5-670857cd4c5a",
   "metadata": {},
   "outputs": [],
   "source": [
    "def wordsearch(grid,word):\n",
    "    res = []\n",
    "    def dfs(i,j,k):\n",
    "        "
   ]
  }
 ],
 "metadata": {
  "kernelspec": {
   "display_name": "Python 3 (ipykernel)",
   "language": "python",
   "name": "python3"
  },
  "language_info": {
   "codemirror_mode": {
    "name": "ipython",
    "version": 3
   },
   "file_extension": ".py",
   "mimetype": "text/x-python",
   "name": "python",
   "nbconvert_exporter": "python",
   "pygments_lexer": "ipython3",
   "version": "3.10.11"
  }
 },
 "nbformat": 4,
 "nbformat_minor": 5
}
