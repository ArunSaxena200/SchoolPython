{
 "cells": [
  {
   "cell_type": "code",
   "execution_count": null,
   "id": "383dfe1b-5e4f-40f5-8f57-5301fa379463",
   "metadata": {},
   "outputs": [],
   "source": [
    "def perm(inpArray):\n",
    "    res = []\n",
    "    def backtrack(start):\n",
    "        #base\n",
    "        if start == len(inpArray):\n",
    "            res.append(inpArray[:])\n",
    "            return\n",
    "        # iterate\n",
    "        for i in range(len(inpArray)):\n",
    "            inpArray[i],inpArray[start]=inpArray[start],inpArray[i]\n",
    "            backtrack(start+i)\n",
    "            inpArray[i],inpArray[start]=inpArray[start],inpArray[i]\n",
    "        backtrack()\n"
   ]
  },
  {
   "cell_type": "code",
   "execution_count": 2,
   "id": "44c6b222-4759-400e-b11e-e3832bc5a036",
   "metadata": {},
   "outputs": [
    {
     "ename": "SyntaxError",
     "evalue": "invalid syntax (2254339110.py, line 2)",
     "output_type": "error",
     "traceback": [
      "\u001b[1;36m  Cell \u001b[1;32mIn[2], line 2\u001b[1;36m\u001b[0m\n\u001b[1;33m    a[0]a[1]=a[1]a[0]\u001b[0m\n\u001b[1;37m        ^\u001b[0m\n\u001b[1;31mSyntaxError\u001b[0m\u001b[1;31m:\u001b[0m invalid syntax\n"
     ]
    }
   ],
   "source": []
  },
  {
   "cell_type": "code",
   "execution_count": null,
   "id": "19163703-36fb-4ab4-90e5-670857cd4c5a",
   "metadata": {},
   "outputs": [],
   "source": []
  }
 ],
 "metadata": {
  "kernelspec": {
   "display_name": "Python 3 (ipykernel)",
   "language": "python",
   "name": "python3"
  },
  "language_info": {
   "codemirror_mode": {
    "name": "ipython",
    "version": 3
   },
   "file_extension": ".py",
   "mimetype": "text/x-python",
   "name": "python",
   "nbconvert_exporter": "python",
   "pygments_lexer": "ipython3",
   "version": "3.10.11"
  }
 },
 "nbformat": 4,
 "nbformat_minor": 5
}
