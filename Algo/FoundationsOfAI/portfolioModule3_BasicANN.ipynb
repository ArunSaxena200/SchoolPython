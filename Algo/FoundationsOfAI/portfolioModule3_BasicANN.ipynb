{
 "cells": [
  {
   "cell_type": "code",
   "execution_count": 57,
   "id": "29b16356-028f-4e9a-8cfb-1c6b108f24c7",
   "metadata": {},
   "outputs": [
    {
     "name": "stdout",
     "output_type": "stream",
     "text": [
      "Epoch 0: Loss = 44.0242\n",
      "Epoch 100: Loss = 0.2695\n",
      "Epoch 200: Loss = 0.0538\n",
      "Epoch 300: Loss = 0.0239\n",
      "Epoch 400: Loss = 0.0133\n",
      "Epoch 500: Loss = 0.1068\n",
      "Epoch 600: Loss = 0.0842\n",
      "Epoch 700: Loss = 0.0725\n",
      "Epoch 800: Loss = 0.0631\n",
      "Epoch 900: Loss = 0.0554\n",
      "Predicted next number: 10.00\n"
     ]
    }
   ],
   "source": [
    "import numpy as np\n",
    "\n",
    "# sample data\n",
    "X = np.array([[1], [3], [5], [7]])\n",
    "y_true = np.array([[3], [5], [7], [9]])  # Next number in the series\n",
    "\n",
    "# Initialize parameters\n",
    "input_size = 1\n",
    "hidden_size = 4\n",
    "output_size = 1\n",
    "\n",
    "# Define weight and bias\n",
    "W1 = np.random.randn(input_size, hidden_size)\n",
    "b1 = np.zeros((1, hidden_size))\n",
    "W2 = np.random.randn(hidden_size, output_size)\n",
    "b2 = np.zeros((1, output_size))\n",
    "\n",
    "# Define activation function (sigmoid)\n",
    "# The sigmoid function is commonly used in machine learning and neural networks because it maps any real-valued number to the range \\((0, 1)\\), \n",
    "# which is useful for tasks such as binary classification where you want to output probabilities. \n",
    "# As \\(x\\) becomes larger, the sigmoid function approaches 1, and as \\(x\\) becomes smaller, it approaches 0. \n",
    "# This property allows it to introduce non-linearity to neural network models.\n",
    "\n",
    "def sigmoid(x):\n",
    "    return 1 / (1 + np.exp(-x))\n",
    "\n",
    "# Hyperparameters\n",
    "learning_rate = 0.01\n",
    "epochs = 1000\n",
    "\n",
    "# Training loop\n",
    "for epoch in range(epochs):\n",
    "    \n",
    "    # Forward pass (feedforward)\n",
    "    # X is a matrix representing the input data. Each row of X corresponds to a single data point, and each column corresponds to a feature (in this case, it seems to be a single feature).\n",
    "    # W1 is the weight matrix connecting the input layer to the hidden layer of a neural network. It has dimensions (input_size, hidden_size), where input_size is the number of features in the input data, and hidden_size is the number of neurons in the hidden layer.\n",
    "    # np.dot(X, W1) performs matrix multiplication between X and W1. \n",
    "    # This operation effectively transforms the input data into the hidden layer space, where each row of the resulting matrix represents the transformed features for a particular data point.\n",
    "    \n",
    "    hidden_layer_input = np.dot(X, W1) + b1\n",
    "    hidden_layer_output = sigmoid(hidden_layer_input)\n",
    "    y_pred = np.dot(hidden_layer_output, W2) + b2\n",
    "\n",
    "    # Compute loss (mean squared error)\n",
    "    loss = np.mean((y_pred - y_true) ** 2)\n",
    "\n",
    "    # Backpropagation\n",
    "    dL_dy_pred = 2 * (y_pred - y_true)\n",
    "    dW2 = np.dot(hidden_layer_output.T, dL_dy_pred)\n",
    "    db2 = np.sum(dL_dy_pred, axis=0)\n",
    "    dhidden = np.dot(dL_dy_pred, W2.T) * (hidden_layer_output * (1 - hidden_layer_output))\n",
    "    dW1 = np.dot(X.T, dhidden)\n",
    "    db1 = np.sum(dhidden, axis=0)\n",
    "\n",
    "    # Update weights and biases\n",
    "    W1 -= learning_rate * dW1\n",
    "    b1 -= learning_rate * db1\n",
    "    W2 -= learning_rate * dW2\n",
    "    b2 -= learning_rate * db2\n",
    "\n",
    "    if epoch % 100 == 0:\n",
    "        print(f\"Epoch {epoch}: Loss = {loss:.4f}\")\n",
    "\n",
    "# Test the trained network\n",
    "test_input = np.array([[9]])  # Predict the next number after 9\n",
    "hidden_output = sigmoid(np.dot(test_input, W1) + b1)\n",
    "predicted_number = np.dot(hidden_output, W2) + b2\n",
    "print(f\"Predicted next number: {predicted_number[0][0]:.2f}\")\n"
   ]
  },
  {
   "cell_type": "code",
   "execution_count": null,
   "id": "e28511d8-06d3-42ef-8fe5-5ef0aa35f995",
   "metadata": {},
   "outputs": [],
   "source": []
  },
  {
   "cell_type": "code",
   "execution_count": null,
   "id": "d359aa79-efca-41ae-9396-8ce859e13ffb",
   "metadata": {},
   "outputs": [],
   "source": []
  }
 ],
 "metadata": {
  "kernelspec": {
   "display_name": "Python 3 (ipykernel)",
   "language": "python",
   "name": "python3"
  },
  "language_info": {
   "codemirror_mode": {
    "name": "ipython",
    "version": 3
   },
   "file_extension": ".py",
   "mimetype": "text/x-python",
   "name": "python",
   "nbconvert_exporter": "python",
   "pygments_lexer": "ipython3",
   "version": "3.10.11"
  }
 },
 "nbformat": 4,
 "nbformat_minor": 5
}
