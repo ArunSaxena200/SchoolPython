{
  "nbformat": 4,
  "nbformat_minor": 0,
  "metadata": {
    "colab": {
      "provenance": [],
      "authorship_tag": "ABX9TyNXH3+5ux9xESY/uzeThnW4",
      "include_colab_link": true
    },
    "kernelspec": {
      "name": "python3",
      "display_name": "Python 3"
    },
    "language_info": {
      "name": "python"
    }
  },
  "cells": [
    {
      "cell_type": "markdown",
      "metadata": {
        "id": "view-in-github",
        "colab_type": "text"
      },
      "source": [
        "<a href=\"https://colab.research.google.com/github/ArunSaxena200/SchoolPython/blob/main/Module4CT_ChemToxic.ipynb\" target=\"_parent\"><img src=\"https://colab.research.google.com/assets/colab-badge.svg\" alt=\"Open In Colab\"/></a>"
      ]
    },
    {
      "cell_type": "code",
      "execution_count": 6,
      "metadata": {
        "colab": {
          "base_uri": "https://localhost:8080/"
        },
        "id": "Tdb8R9YqPutG",
        "outputId": "af79c88f-a66a-4b39-e7f5-cf428136a496"
      },
      "outputs": [
        {
          "output_type": "stream",
          "name": "stdout",
          "text": [
            "Requirement already satisfied: deepchem==2.5.0 in /usr/local/lib/python3.11/dist-packages (2.5.0)\n",
            "Requirement already satisfied: joblib in /usr/local/lib/python3.11/dist-packages (from deepchem==2.5.0) (1.5.1)\n",
            "Requirement already satisfied: numpy in /usr/local/lib/python3.11/dist-packages (from deepchem==2.5.0) (2.0.2)\n",
            "Requirement already satisfied: pandas in /usr/local/lib/python3.11/dist-packages (from deepchem==2.5.0) (2.2.2)\n",
            "Requirement already satisfied: scikit-learn in /usr/local/lib/python3.11/dist-packages (from deepchem==2.5.0) (1.6.1)\n",
            "Requirement already satisfied: scipy in /usr/local/lib/python3.11/dist-packages (from deepchem==2.5.0) (1.15.3)\n",
            "Requirement already satisfied: python-dateutil>=2.8.2 in /usr/local/lib/python3.11/dist-packages (from pandas->deepchem==2.5.0) (2.9.0.post0)\n",
            "Requirement already satisfied: pytz>=2020.1 in /usr/local/lib/python3.11/dist-packages (from pandas->deepchem==2.5.0) (2025.2)\n",
            "Requirement already satisfied: tzdata>=2022.7 in /usr/local/lib/python3.11/dist-packages (from pandas->deepchem==2.5.0) (2025.2)\n",
            "Requirement already satisfied: threadpoolctl>=3.1.0 in /usr/local/lib/python3.11/dist-packages (from scikit-learn->deepchem==2.5.0) (3.6.0)\n",
            "Requirement already satisfied: six>=1.5 in /usr/local/lib/python3.11/dist-packages (from python-dateutil>=2.8.2->pandas->deepchem==2.5.0) (1.17.0)\n"
          ]
        },
        {
          "output_type": "stream",
          "name": "stderr",
          "text": [
            "WARNING:tensorflow:From /usr/local/lib/python3.11/dist-packages/tensorflow/python/compat/v2_compat.py:98: disable_resource_variables (from tensorflow.python.ops.resource_variables_toggle) is deprecated and will be removed in a future version.\n",
            "Instructions for updating:\n",
            "non-resource variables are not supported in the long term\n",
            "\u001b[34m\u001b[1mwandb\u001b[0m: \u001b[33mWARNING\u001b[0m W&B installed but not logged in.  Run `wandb login` or set the WANDB_API_KEY env variable.\n",
            "WARNING:tensorflow:From /usr/local/lib/python3.11/dist-packages/tensorflow/python/util/deprecation.py:588: calling function (from tensorflow.python.eager.polymorphic_function.polymorphic_function) with experimental_relax_shapes is deprecated and will be removed in a future version.\n",
            "Instructions for updating:\n",
            "experimental_relax_shapes is deprecated, use reduce_retracing instead\n",
            "\u001b[34m\u001b[1mwandb\u001b[0m: \u001b[33mWARNING\u001b[0m W&B installed but not logged in.  Run `wandb login` or set the WANDB_API_KEY env variable.\n"
          ]
        }
      ],
      "source": [
        "# Install RDKit first\n",
        "!pip install rdkit-pypi\n",
        "\n",
        "# Then install deepchem\n",
        "!pip install deepchem==2.5.0\n",
        "\n",
        "import numpy as np\n",
        "import tensorflow.compat.v1 as tf\n",
        "tf.disable_v2_behavior()\n",
        "\n",
        "import matplotlib.pyplot as plt\n",
        "import deepchem as dc\n",
        "from sklearn.metrics import accuracy_score\n",
        "\n",
        "# Set seeds\n",
        "np.random.seed(456)\n",
        "tf.set_random_seed(456)\n"
      ]
    },
    {
      "cell_type": "code",
      "source": [
        "_, (train, valid, test), _ = dc.molnet.load_tox21()\n",
        "\n",
        "train_X, train_y, train_w = train.X, train.y, train.w\n",
        "valid_X, valid_y, valid_w = valid.X, valid.y, valid.w\n",
        "test_X, test_y, test_w = test.X, test.y, test.w"
      ],
      "metadata": {
        "id": "7sdBGuOsP0py"
      },
      "execution_count": 13,
      "outputs": []
    },
    {
      "cell_type": "code",
      "source": [],
      "metadata": {
        "colab": {
          "base_uri": "https://localhost:8080/"
        },
        "id": "37-KuEb_ThVw",
        "outputId": "bb4c9a95-8fed-4bf0-eee1-5ff32dc89dcd"
      },
      "execution_count": 11,
      "outputs": [
        {
          "output_type": "stream",
          "name": "stdout",
          "text": [
            "Collecting rdkit-pypi\n",
            "  Downloading rdkit_pypi-2022.9.5-cp311-cp311-manylinux_2_17_x86_64.manylinux2014_x86_64.whl.metadata (3.9 kB)\n",
            "Requirement already satisfied: numpy in /usr/local/lib/python3.11/dist-packages (from rdkit-pypi) (2.0.2)\n",
            "Requirement already satisfied: Pillow in /usr/local/lib/python3.11/dist-packages (from rdkit-pypi) (11.2.1)\n",
            "Downloading rdkit_pypi-2022.9.5-cp311-cp311-manylinux_2_17_x86_64.manylinux2014_x86_64.whl (29.4 MB)\n",
            "\u001b[2K   \u001b[90m━━━━━━━━━━━━━━━━━━━━━━━━━━━━━━━━━━━━━━━━\u001b[0m \u001b[32m29.4/29.4 MB\u001b[0m \u001b[31m35.6 MB/s\u001b[0m eta \u001b[36m0:00:00\u001b[0m\n",
            "\u001b[?25hInstalling collected packages: rdkit-pypi\n",
            "Successfully installed rdkit-pypi-2022.9.5\n",
            "Requirement already satisfied: deepchem==2.5.0 in /usr/local/lib/python3.11/dist-packages (2.5.0)\n",
            "Requirement already satisfied: joblib in /usr/local/lib/python3.11/dist-packages (from deepchem==2.5.0) (1.5.1)\n",
            "Requirement already satisfied: numpy in /usr/local/lib/python3.11/dist-packages (from deepchem==2.5.0) (2.0.2)\n",
            "Requirement already satisfied: pandas in /usr/local/lib/python3.11/dist-packages (from deepchem==2.5.0) (2.2.2)\n",
            "Requirement already satisfied: scikit-learn in /usr/local/lib/python3.11/dist-packages (from deepchem==2.5.0) (1.6.1)\n",
            "Requirement already satisfied: scipy in /usr/local/lib/python3.11/dist-packages (from deepchem==2.5.0) (1.15.3)\n",
            "Requirement already satisfied: python-dateutil>=2.8.2 in /usr/local/lib/python3.11/dist-packages (from pandas->deepchem==2.5.0) (2.9.0.post0)\n",
            "Requirement already satisfied: pytz>=2020.1 in /usr/local/lib/python3.11/dist-packages (from pandas->deepchem==2.5.0) (2025.2)\n",
            "Requirement already satisfied: tzdata>=2022.7 in /usr/local/lib/python3.11/dist-packages (from pandas->deepchem==2.5.0) (2025.2)\n",
            "Requirement already satisfied: threadpoolctl>=3.1.0 in /usr/local/lib/python3.11/dist-packages (from scikit-learn->deepchem==2.5.0) (3.6.0)\n",
            "Requirement already satisfied: six>=1.5 in /usr/local/lib/python3.11/dist-packages (from python-dateutil>=2.8.2->pandas->deepchem==2.5.0) (1.17.0)\n"
          ]
        }
      ]
    },
    {
      "cell_type": "code",
      "source": [
        "# Remove extra tasks\n",
        "train_y = train_y[:, 0]\n",
        "valid_y = valid_y[:, 0]\n",
        "test_y = test_y[:, 0]\n",
        "train_w = train_w[:, 0]\n",
        "valid_w = valid_w[:, 0]\n",
        "test_w = test_w[:, 0]\n"
      ],
      "metadata": {
        "id": "VL7keNehTom2"
      },
      "execution_count": 14,
      "outputs": []
    },
    {
      "cell_type": "code",
      "source": [
        "# Define network parameters\n",
        "d = 1024\n",
        "n_hidden = 50\n",
        "learning_rate = 0.001\n",
        "n_epochs = 10\n",
        "batch_size = 100"
      ],
      "metadata": {
        "id": "7USfIJEZUC5J"
      },
      "execution_count": 15,
      "outputs": []
    },
    {
      "cell_type": "code",
      "source": [
        "x = tf.placeholder(tf.float32, (None, d))\n",
        "y = tf.placeholder(tf.float32, (None,))"
      ],
      "metadata": {
        "id": "Mw7t016ZUImP"
      },
      "execution_count": 16,
      "outputs": []
    },
    {
      "cell_type": "code",
      "source": [
        "# Hidden layer\n",
        "W_hidden = tf.Variable(tf.random_normal((d, n_hidden)))\n",
        "b_hidden = tf.Variable(tf.random_normal((n_hidden,)))\n",
        "x_hidden = tf.nn.relu(tf.matmul(x, W_hidden) + b_hidden)"
      ],
      "metadata": {
        "id": "uN3sGDgkUNY3"
      },
      "execution_count": 17,
      "outputs": []
    },
    {
      "cell_type": "code",
      "source": [
        "# Dropout layer\n",
        "keep_prob = tf.placeholder(tf.float32)\n",
        "x_hidden_drop = tf.nn.dropout(x_hidden, keep_prob)"
      ],
      "metadata": {
        "colab": {
          "base_uri": "https://localhost:8080/"
        },
        "id": "TUpl_RoPUR7B",
        "outputId": "1301758e-5133-4c83-abaf-d7d0a82992fc"
      },
      "execution_count": 18,
      "outputs": [
        {
          "output_type": "stream",
          "name": "stderr",
          "text": [
            "WARNING:tensorflow:From /usr/local/lib/python3.11/dist-packages/tensorflow/python/util/dispatch.py:1260: calling dropout (from tensorflow.python.ops.nn_ops) with keep_prob is deprecated and will be removed in a future version.\n",
            "Instructions for updating:\n",
            "Please use `rate` instead of `keep_prob`. Rate should be set to `rate = 1 - keep_prob`.\n"
          ]
        }
      ]
    },
    {
      "cell_type": "code",
      "source": [
        "# Output layer\n",
        "W_output = tf.Variable(tf.random_normal((n_hidden, 1)))\n",
        "b_output = tf.Variable(tf.random_normal((1,)))\n",
        "y_logit = tf.matmul(x_hidden_drop, W_output) + b_output\n",
        "y_one_prob = tf.sigmoid(y_logit)\n",
        "y_pred = tf.round(y_one_prob)"
      ],
      "metadata": {
        "id": "nKBESthaUXbv"
      },
      "execution_count": 19,
      "outputs": []
    },
    {
      "cell_type": "code",
      "source": [
        "# Loss function\n",
        "y_expand = tf.expand_dims(y, 1)\n",
        "entropy = tf.nn.sigmoid_cross_entropy_with_logits(logits=y_logit, labels=y_expand)\n",
        "loss = tf.reduce_sum(entropy)"
      ],
      "metadata": {
        "id": "knHsUKrjUdyj"
      },
      "execution_count": 20,
      "outputs": []
    },
    {
      "cell_type": "code",
      "source": [
        "# Optimizer\n",
        "train_op = tf.train.AdamOptimizer(learning_rate).minimize(loss)"
      ],
      "metadata": {
        "id": "Yd-vAE1bUggw"
      },
      "execution_count": 21,
      "outputs": []
    },
    {
      "cell_type": "code",
      "source": [
        "# Training loop\n",
        "N = train_X.shape[0]\n",
        "loss_history = []"
      ],
      "metadata": {
        "id": "bzl034HBUkLz"
      },
      "execution_count": 22,
      "outputs": []
    },
    {
      "cell_type": "code",
      "source": [
        "with tf.Session() as sess:\n",
        "    sess.run(tf.global_variables_initializer())\n",
        "    for epoch in range(n_epochs):\n",
        "        pos = 0\n",
        "        while pos < N:\n",
        "            batch_X = train_X[pos:pos+batch_size]\n",
        "            batch_y = train_y[pos:pos+batch_size]\n",
        "            feed_dict = {x: batch_X, y: batch_y, keep_prob: 0.8}\n",
        "            _, loss_val = sess.run([train_op, loss], feed_dict=feed_dict)\n",
        "            pos += batch_size\n",
        "        print(\"Epoch:\", epoch+1, \"Loss:\", loss_val)\n",
        "        loss_history.append(loss_val)\n",
        "\n",
        "    # Predict on validation data\n",
        "    valid_pred = sess.run(y_pred, feed_dict={x: valid_X, keep_prob: 1.0})"
      ],
      "metadata": {
        "colab": {
          "base_uri": "https://localhost:8080/"
        },
        "id": "9utcWm5HUmz9",
        "outputId": "e867b39e-f0a6-49b6-b8d7-26de964116f4"
      },
      "execution_count": 26,
      "outputs": [
        {
          "output_type": "stream",
          "name": "stdout",
          "text": [
            "Epoch: 1 Loss: 181.88892\n",
            "Epoch: 2 Loss: 124.87159\n",
            "Epoch: 3 Loss: 137.62494\n",
            "Epoch: 4 Loss: 111.88254\n",
            "Epoch: 5 Loss: 118.18395\n",
            "Epoch: 6 Loss: 136.77963\n",
            "Epoch: 7 Loss: 153.09796\n",
            "Epoch: 8 Loss: 102.934326\n",
            "Epoch: 9 Loss: 49.005047\n",
            "Epoch: 10 Loss: 139.643\n"
          ]
        }
      ]
    },
    {
      "cell_type": "code",
      "source": [
        "# Evaluate accuracy\n",
        "valid_accuracy = accuracy_score(valid_y, valid_pred)\n",
        "print(\"Validation Accuracy:\", valid_accuracy)\n",
        "\n",
        "# Plot loss curve\n",
        "plt.plot(loss_history)\n",
        "plt.xlabel(\"Epoch\")\n",
        "plt.ylabel(\"Loss\")\n",
        "plt.title(\"Loss Curve\")\n",
        "plt.show()"
      ],
      "metadata": {
        "colab": {
          "base_uri": "https://localhost:8080/",
          "height": 489
        },
        "id": "N8CF6UEZUq-g",
        "outputId": "7a40c8ce-caf1-437c-b2a8-1df5924ffe0d"
      },
      "execution_count": 27,
      "outputs": [
        {
          "output_type": "stream",
          "name": "stdout",
          "text": [
            "Validation Accuracy: 0.9591315453384419\n"
          ]
        },
        {
          "output_type": "display_data",
          "data": {
            "text/plain": [
              "<Figure size 640x480 with 1 Axes>"
            ],
            "image/png": "[encoded data removed]"
          },
          "metadata": {}
        }
      ]
    },
    {
      "cell_type": "code",
      "source": [],
      "metadata": {
        "id": "WyiuH99dUvzm"
      },
      "execution_count": null,
      "outputs": []
    }
  ]
}